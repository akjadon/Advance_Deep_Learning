{
 "cells": [
  {
   "cell_type": "markdown",
   "id": "4d7a6429",
   "metadata": {},
   "source": [
    "To understand how GAN training works, consider a toy example with a dataset composed of two-dimensional samples (x₁, x₂), with x₁ in the interval from 0 to 2π and x₂ = sin(x₁), as illustrated in the following figure:"
   ]
  },
  {
   "cell_type": "markdown",
   "id": "8f11c73e",
   "metadata": {},
   "source": [
    "## import library"
   ]
  },
  {
   "cell_type": "code",
   "execution_count": 3,
   "id": "6248cddd",
   "metadata": {},
   "outputs": [],
   "source": [
    "import torch\n",
    "from torch import nn\n",
    "\n",
    "import math\n",
    "import matplotlib.pyplot as plt\n",
    "%matplotlib inline  "
   ]
  },
  {
   "cell_type": "code",
   "execution_count": 4,
   "id": "9383dddf",
   "metadata": {},
   "outputs": [
    {
     "data": {
      "text/plain": [
       "<torch._C.Generator at 0x1ed3aa7c970>"
      ]
     },
     "execution_count": 4,
     "metadata": {},
     "output_type": "execute_result"
    }
   ],
   "source": [
    "torch.manual_seed(111)"
   ]
  },
  {
   "cell_type": "markdown",
   "id": "a6cf9e6f",
   "metadata": {},
   "source": [
    "## Preparing the Training Data"
   ]
  },
  {
   "cell_type": "code",
   "execution_count": 5,
   "id": "dd0dcb9c",
   "metadata": {},
   "outputs": [],
   "source": [
    "train_data_length = 1024\n",
    "train_data = torch.zeros((train_data_length, 2))\n",
    "train_data[:, 0] = 2 * math.pi * torch.rand(train_data_length)\n",
    "train_data[:, 1] = torch.sin(train_data[:, 0])\n",
    "train_labels = torch.zeros(train_data_length)\n",
    "train_set = [(train_data[i], train_labels[i]) for i in range(train_data_length)]"
   ]
  },
  {
   "cell_type": "code",
   "execution_count": 6,
   "id": "3b895f30",
   "metadata": {},
   "outputs": [
    {
     "data": {
      "text/plain": [
       "1024"
      ]
     },
     "execution_count": 6,
     "metadata": {},
     "output_type": "execute_result"
    }
   ],
   "source": [
    "len(train_set)"
   ]
  },
  {
   "cell_type": "code",
   "execution_count": 7,
   "id": "38a23ff4",
   "metadata": {},
   "outputs": [],
   "source": [
    "# import os\n",
    "# os.environ[\"KMP_DUPLICATE_LIB_OK\"]=\"TRUE\""
   ]
  },
  {
   "cell_type": "code",
   "execution_count": 8,
   "id": "194dd00e",
   "metadata": {},
   "outputs": [
    {
     "data": {
      "text/plain": [
       "[<matplotlib.lines.Line2D at 0x1ed3ed4b7f0>]"
      ]
     },
     "execution_count": 8,
     "metadata": {},
     "output_type": "execute_result"
    },
    {
     "data": {
      "image/png": "[encoded data removed]",
      "text/plain": [
       "<Figure size 432x288 with 1 Axes>"
      ]
     },
     "metadata": {
      "needs_background": "light"
     },
     "output_type": "display_data"
    }
   ],
   "source": [
    "plt.plot(train_data[:, 0], train_data[:, 1], \".\")"
   ]
  },
  {
   "cell_type": "code",
   "execution_count": 9,
   "id": "bd563f9e",
   "metadata": {},
   "outputs": [],
   "source": [
    "batch_size = 32\n",
    "train_loader = torch.utils.data.DataLoader(\n",
    "    train_set, batch_size=batch_size, shuffle=True\n",
    ")"
   ]
  },
  {
   "cell_type": "markdown",
   "id": "4af10ad1",
   "metadata": {},
   "source": [
    "## Implementing the Discriminator"
   ]
  },
  {
   "cell_type": "markdown",
   "id": "770b1cdc",
   "metadata": {},
   "source": [
    "* In PyTorch, the neural network models are represented by classes that inherit from nn.Module, \n",
    "* The discriminator is a model with a two-dimensional input and a one-dimensional output.\n",
    "* It’ll receive a sample from the real data or from the generator and will provide the probability that the sample belongs to the real training data."
   ]
  },
  {
   "cell_type": "code",
   "execution_count": 13,
   "id": "6108f37c",
   "metadata": {},
   "outputs": [],
   "source": [
    "class Discriminator(nn.Module):\n",
    "    def __init__(self):\n",
    "        super().__init__()\n",
    "        self.model = nn.Sequential(\n",
    "            nn.Linear(2, 256),\n",
    "            nn.ReLU(),\n",
    "            nn.Dropout(0.3),\n",
    "            nn.Linear(256, 128),\n",
    "            nn.ReLU(),\n",
    "            nn.Dropout(0.3),\n",
    "            nn.Linear(128, 64),\n",
    "            nn.ReLU(),\n",
    "            nn.Dropout(0.3),\n",
    "            nn.Linear(64, 1),\n",
    "            nn.Sigmoid(),\n",
    "        )\n",
    "\n",
    "    def forward(self, x):\n",
    "        output = self.model(x)\n",
    "        return output"
   ]
  },
  {
   "cell_type": "markdown",
   "id": "c19a5e31",
   "metadata": {},
   "source": [
    "* use .__init__() to build the model. \n",
    "* First, you need to call super().__init__() to run .__init__() from nn.Module.\n",
    "* The discriminator you’re using is an MLP neural network defined in a sequential way using nn.Sequential().\n",
    "* Lines 5 and 6: The input is two-dimensional, and the first hidden layer is composed of 256 neurons with ReLU activation.\n",
    "* Lines 8, 9, 11, and 12: The second and third hidden layers are composed of 128 and 64 neurons, respectively, with ReLU activation.\n",
    "* Lines 14 and 15: The output is composed of a single neuron with sigmoidal activation to represent a probability.\n",
    "* Lines 7, 10, and 13: After the first, second, and third hidden layers, you use dropout to avoid overfitting."
   ]
  },
  {
   "cell_type": "markdown",
   "id": "b600f1f5",
   "metadata": {},
   "source": [
    "* After declaring the discriminator class, you should instantiate a Discriminator object:\n"
   ]
  },
  {
   "cell_type": "code",
   "execution_count": 15,
   "id": "57afd784",
   "metadata": {},
   "outputs": [],
   "source": [
    "discriminator = Discriminator()"
   ]
  },
  {
   "cell_type": "markdown",
   "id": "d60535ee",
   "metadata": {},
   "source": [
    "## Implementing the Generator"
   ]
  },
  {
   "cell_type": "markdown",
   "id": "fb32b158",
   "metadata": {},
   "source": [
    "* generator  model  takes samples from a latent space as its input and generates data resembling the data in the training set.\n",
    "* In this case, it’s a model with a two-dimensional input, which will receive random points (z₁, z₂), and a two-dimensional output that must provide (x̃₁, x̃₂) points resembling those from the training data.\n",
    "*  implementation is similar to what you did for the discriminator."
   ]
  },
  {
   "cell_type": "code",
   "execution_count": 16,
   "id": "08be056b",
   "metadata": {},
   "outputs": [],
   "source": [
    "class Generator(nn.Module):\n",
    "    def __init__(self):\n",
    "        super().__init__()\n",
    "        self.model = nn.Sequential(\n",
    "            nn.Linear(2, 16),\n",
    "            nn.ReLU(),\n",
    "            nn.Linear(16, 32),\n",
    "            nn.ReLU(),\n",
    "            nn.Linear(32, 2),\n",
    "        )\n",
    "\n",
    "    def forward(self, x):\n",
    "        output = self.model(x)\n",
    "        return output\n",
    "\n",
    "generator = Generator()"
   ]
  },
  {
   "cell_type": "markdown",
   "id": "85b69000",
   "metadata": {},
   "source": [
    "* Generator has two hidden layers with 16 and 32 neurons, both with ReLU activation, and \n",
    "* a linear activation layer with 2 neurons in the output.\n",
    "* output will consist of a vector with two elements that can be any value ranging from negative infinity to infinity, which will represent (x̃₁, x̃₂)."
   ]
  },
  {
   "cell_type": "markdown",
   "id": "a6bb248b",
   "metadata": {},
   "source": [
    "## Training the Models"
   ]
  },
  {
   "cell_type": "code",
   "execution_count": 17,
   "id": "55caeacb",
   "metadata": {},
   "outputs": [],
   "source": [
    "lr = 0.001\n",
    "# num_epochs = 300\n",
    "num_epochs = 5\n",
    "loss_function = nn.BCELoss()  ## binary cross-entropy "
   ]
  },
  {
   "cell_type": "markdown",
   "id": "58032f49",
   "metadata": {},
   "source": [
    "* binary cross-entropy function is a suitable loss function for training the discriminator because it considers a binary classification task.\n",
    "* It’s also suitable for training the generator since it feeds its output to the discriminator, which provides a binary observable output.\n",
    "* PyTorch implements various weight update rules for model training in torch.optim.\n",
    "* use the Adam algorithm to train the discriminator and generator models. \n"
   ]
  },
  {
   "cell_type": "code",
   "execution_count": 18,
   "id": "5f5619e6",
   "metadata": {},
   "outputs": [],
   "source": [
    "optimizer_discriminator = torch.optim.Adam(discriminator.parameters(), lr=lr)\n",
    "optimizer_generator = torch.optim.Adam(generator.parameters(), lr=lr)"
   ]
  },
  {
   "cell_type": "markdown",
   "id": "008e8f2e",
   "metadata": {},
   "source": [
    " * need to implement a training loop in which training samples are fed to the models, and their weights are updated to minimize the loss function"
   ]
  },
  {
   "cell_type": "code",
   "execution_count": 19,
   "id": "c760538a",
   "metadata": {
    "collapsed": true
   },
   "outputs": [
    {
     "name": "stdout",
     "output_type": "stream",
     "text": [
      "Epoch: 0 Loss D.: 0.21308737993240356\n",
      "Epoch: 0 Loss G.: 1.7989580631256104\n",
      "Epoch: 10 Loss D.: 0.6099680662155151\n",
      "Epoch: 10 Loss G.: 0.907738447189331\n",
      "Epoch: 20 Loss D.: 0.6200630068778992\n",
      "Epoch: 20 Loss G.: 0.9532098770141602\n",
      "Epoch: 30 Loss D.: 0.6286339163780212\n",
      "Epoch: 30 Loss G.: 0.9837956428527832\n",
      "Epoch: 40 Loss D.: 0.7340888381004333\n",
      "Epoch: 40 Loss G.: 0.8471784591674805\n",
      "Epoch: 50 Loss D.: 0.6541728377342224\n",
      "Epoch: 50 Loss G.: 0.7553777098655701\n",
      "Epoch: 60 Loss D.: 0.6983423829078674\n",
      "Epoch: 60 Loss G.: 0.7128036618232727\n",
      "Epoch: 70 Loss D.: 0.6756089329719543\n",
      "Epoch: 70 Loss G.: 0.7302926778793335\n",
      "Epoch: 80 Loss D.: 0.6582827568054199\n",
      "Epoch: 80 Loss G.: 0.7085089683532715\n",
      "Epoch: 90 Loss D.: 0.6711112260818481\n",
      "Epoch: 90 Loss G.: 0.6342720985412598\n",
      "Epoch: 100 Loss D.: 0.6668202877044678\n",
      "Epoch: 100 Loss G.: 0.8669310808181763\n",
      "Epoch: 110 Loss D.: 0.6317551136016846\n",
      "Epoch: 110 Loss G.: 0.8675606846809387\n",
      "Epoch: 120 Loss D.: 0.6917753219604492\n",
      "Epoch: 120 Loss G.: 0.7788307666778564\n",
      "Epoch: 130 Loss D.: 0.7024410367012024\n",
      "Epoch: 130 Loss G.: 0.6657269597053528\n",
      "Epoch: 140 Loss D.: 0.7172075510025024\n",
      "Epoch: 140 Loss G.: 0.7276207208633423\n",
      "Epoch: 150 Loss D.: 0.6464888453483582\n",
      "Epoch: 150 Loss G.: 0.9322821497917175\n",
      "Epoch: 160 Loss D.: 0.6555565595626831\n",
      "Epoch: 160 Loss G.: 0.8481027483940125\n",
      "Epoch: 170 Loss D.: 0.6521111726760864\n",
      "Epoch: 170 Loss G.: 1.001524567604065\n",
      "Epoch: 180 Loss D.: 0.6521505117416382\n",
      "Epoch: 180 Loss G.: 0.8025227189064026\n",
      "Epoch: 190 Loss D.: 0.693496823310852\n",
      "Epoch: 190 Loss G.: 0.7122759222984314\n",
      "Epoch: 200 Loss D.: 0.7000092267990112\n",
      "Epoch: 200 Loss G.: 0.7935235500335693\n",
      "Epoch: 210 Loss D.: 0.6205970048904419\n",
      "Epoch: 210 Loss G.: 0.9407081007957458\n",
      "Epoch: 220 Loss D.: 0.6468262076377869\n",
      "Epoch: 220 Loss G.: 0.7473565340042114\n",
      "Epoch: 230 Loss D.: 0.7067720890045166\n",
      "Epoch: 230 Loss G.: 0.6989719867706299\n",
      "Epoch: 240 Loss D.: 0.6742486357688904\n",
      "Epoch: 240 Loss G.: 0.8369731307029724\n",
      "Epoch: 250 Loss D.: 0.6602637767791748\n",
      "Epoch: 250 Loss G.: 0.7626544833183289\n",
      "Epoch: 260 Loss D.: 0.7400804758071899\n",
      "Epoch: 260 Loss G.: 0.6769185662269592\n",
      "Epoch: 270 Loss D.: 0.6244819164276123\n",
      "Epoch: 270 Loss G.: 0.8199354410171509\n",
      "Epoch: 280 Loss D.: 0.6926447153091431\n",
      "Epoch: 280 Loss G.: 0.7580840587615967\n",
      "Epoch: 290 Loss D.: 0.6919701099395752\n",
      "Epoch: 290 Loss G.: 0.7631423473358154\n"
     ]
    }
   ],
   "source": [
    "for epoch in range(num_epochs):\n",
    "    for n, (real_samples, _) in enumerate(train_loader):\n",
    "        # Data for training the discriminator\n",
    "        real_samples_labels = torch.ones((batch_size, 1))\n",
    "        latent_space_samples = torch.randn((batch_size, 2))\n",
    "        generated_samples = generator(latent_space_samples)\n",
    "        generated_samples_labels = torch.zeros((batch_size, 1))\n",
    "        all_samples = torch.cat((real_samples, generated_samples))\n",
    "        all_samples_labels = torch.cat(\n",
    "            (real_samples_labels, generated_samples_labels)\n",
    "        )\n",
    "\n",
    "        # Training the discriminator\n",
    "        discriminator.zero_grad()\n",
    "        output_discriminator = discriminator(all_samples)\n",
    "        loss_discriminator = loss_function(\n",
    "            output_discriminator, all_samples_labels)\n",
    "        loss_discriminator.backward()\n",
    "        optimizer_discriminator.step()\n",
    "\n",
    "        # Data for training the generator\n",
    "        latent_space_samples = torch.randn((batch_size, 2))\n",
    "\n",
    "        # Training the generator\n",
    "        generator.zero_grad()\n",
    "        generated_samples = generator(latent_space_samples)\n",
    "        output_discriminator_generated = discriminator(generated_samples)\n",
    "        loss_generator = loss_function(\n",
    "            output_discriminator_generated, real_samples_labels\n",
    "        )\n",
    "        loss_generator.backward()\n",
    "        optimizer_generator.step()\n",
    "\n",
    "        # Show loss\n",
    "        if epoch % 10 == 0 and n == batch_size - 1:\n",
    "            print(f\"Epoch: {epoch} Loss D.: {loss_discriminator}\")\n",
    "            print(f\"Epoch: {epoch} Loss G.: {loss_generator}\")"
   ]
  },
  {
   "cell_type": "markdown",
   "id": "7979fbc6",
   "metadata": {},
   "source": [
    "* Line 2: You get the real samples of the current batch from the data loader and assign them to real_samples. Notice that the first dimension of the tensor has the number of elements equal to batch_size. This is the standard way of organizing data in PyTorch, with each line of the tensor representing one sample from the batch.\n",
    "\n",
    "* Line 4: You use torch.ones() to create labels with the value 1 for the real samples, and then you assign the labels to real_samples_labels.\n",
    "\n",
    "* Lines 5 and 6: You create the generated samples by storing random data in latent_space_samples, which you then feed to the generator to obtain generated_samples.\n",
    "\n",
    "* Line 7: You use torch.zeros() to assign the value 0 to the labels for the generated samples, and then you store the labels in generated_samples_labels.\n",
    "\n",
    "* Lines 8 to 11: You concatenate the real and generated samples and labels and store them in all_samples and all_samples_labels, which you’ll use to train the discriminator."
   ]
  },
  {
   "cell_type": "markdown",
   "id": "f343b2fc",
   "metadata": {},
   "source": [
    "lines 14 to 19, you train the discriminator:\n",
    "* Line 14: In PyTorch, it’s necessary to clear the gradients at each training step to avoid accumulating them. You do this using .zero_grad().\n",
    "\n",
    "* Line 15: You calculate the output of the discriminator using the training data in all_samples.\n",
    "\n",
    "* Lines 16 and 17: You calculate the loss function using the output from the model in output_discriminator and the labels in all_samples_labels.\n",
    "\n",
    "* Line 18: You calculate the gradients to update the weights with loss_discriminator.backward().\n",
    "\n",
    "* Line 19: You update the discriminator weights by calling optimizer_discriminator.step()."
   ]
  },
  {
   "cell_type": "markdown",
   "id": "2ab53cb7",
   "metadata": {},
   "source": [
    "You train the generator in lines 25 to 32:\n",
    "\n",
    "* Line 25: You clear the gradients with .zero_grad().\n",
    "\n",
    "* Line 26: You feed the generator with latent_space_samples and store its output in generated_samples.\n",
    "\n",
    "* Line 27: You feed the generator’s output into the discriminator and store its output in output_discriminator_generated, which you’ll use as the output of the whole model.\n",
    "\n",
    "* Lines 28 to 30: You calculate the loss function using the output of the classification system stored in output_discriminator_generated and the labels in real_samples_labels, which are all equal to 1.\n",
    "\n",
    "* Lines 31 and 32: You calculate the gradients and update the generator weights. Remember that when you trained the generator, you kept the discriminator weights frozen since you created optimizer_generator with its first argument equal to generator.parameters()."
   ]
  },
  {
   "cell_type": "markdown",
   "id": "7450f41f",
   "metadata": {},
   "source": [
    "lines 35 to 37, you display the values of the discriminator and generator loss functions at the end of each ten epochs."
   ]
  },
  {
   "cell_type": "markdown",
   "id": "d2373779",
   "metadata": {},
   "source": [
    "## Checking the Samples Generated by the GAN"
   ]
  },
  {
   "cell_type": "markdown",
   "id": "efb190fa",
   "metadata": {},
   "source": [
    "after the training process is finished, you can get some random samples from the latent space and feed them to the generator to obtain some generated samples:"
   ]
  },
  {
   "cell_type": "code",
   "execution_count": 20,
   "id": "00031fe8",
   "metadata": {},
   "outputs": [],
   "source": [
    "latent_space_samples = torch.randn(100, 2)\n",
    "generated_samples = generator(latent_space_samples)\n"
   ]
  },
  {
   "cell_type": "markdown",
   "id": "7ffce342",
   "metadata": {},
   "source": [
    "* Then you can plot the generated samples and check if they resemble the training data.\n",
    "* Before plotting the generated_samples data, you’ll need to use .detach() to return a tensor from the PyTorch computational graph, which you’ll then use to calculate the gradients"
   ]
  },
  {
   "cell_type": "code",
   "execution_count": 21,
   "id": "64d94414",
   "metadata": {},
   "outputs": [
    {
     "data": {
      "text/plain": [
       "[<matplotlib.lines.Line2D at 0x1ed3ff28220>]"
      ]
     },
     "execution_count": 21,
     "metadata": {},
     "output_type": "execute_result"
    },
    {
     "data": {
      "image/png": "[encoded data removed]",
      "text/plain": [
       "<Figure size 432x288 with 1 Axes>"
      ]
     },
     "metadata": {
      "needs_background": "light"
     },
     "output_type": "display_data"
    }
   ],
   "source": [
    "generated_samples = generated_samples.detach()\n",
    "plt.plot(generated_samples[:, 0], generated_samples[:, 1], \".\")"
   ]
  },
  {
   "cell_type": "code",
   "execution_count": null,
   "id": "881ce796",
   "metadata": {},
   "outputs": [],
   "source": []
  }
 ],
 "metadata": {
  "kernelspec": {
   "display_name": "Python 3 (ipykernel)",
   "language": "python",
   "name": "python3"
  },
  "language_info": {
   "codemirror_mode": {
    "name": "ipython",
    "version": 3
   },
   "file_extension": ".py",
   "mimetype": "text/x-python",
   "name": "python",
   "nbconvert_exporter": "python",
   "pygments_lexer": "ipython3",
   "version": "3.9.7"
  }
 },
 "nbformat": 4,
 "nbformat_minor": 5
}
