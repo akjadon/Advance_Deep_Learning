{
 "cells": [
  {
   "cell_type": "markdown",
   "id": "a101c900",
   "metadata": {},
   "source": [
    "## Handwritten Digits Generator With a GAN"
   ]
  },
  {
   "cell_type": "markdown",
   "id": "02c73a56",
   "metadata": {},
   "source": [
    "* Generative adversarial networks can also generate high-dimensional samples such as images.\n",
    "* we going to use a GAN to generate images of handwritten digits\n",
    "* train the models using the MNIST dataset of handwritten digits"
   ]
  },
  {
   "cell_type": "markdown",
   "id": "72a175cb",
   "metadata": {},
   "source": [
    "### import libraries"
   ]
  },
  {
   "cell_type": "code",
   "execution_count": 1,
   "id": "aebdce0a",
   "metadata": {},
   "outputs": [],
   "source": [
    "import torch\n",
    "from torch import nn\n",
    "\n",
    "import math\n",
    "import matplotlib.pyplot as plt\n",
    "import torchvision\n",
    "import torchvision.transforms as transforms\n"
   ]
  },
  {
   "cell_type": "code",
   "execution_count": 2,
   "id": "e6b0157c",
   "metadata": {},
   "outputs": [
    {
     "data": {
      "text/plain": [
       "<torch._C.Generator at 0x15adfc9e830>"
      ]
     },
     "execution_count": 2,
     "metadata": {},
     "output_type": "execute_result"
    }
   ],
   "source": [
    "torch.manual_seed(111)"
   ]
  },
  {
   "cell_type": "code",
   "execution_count": 3,
   "id": "a2d9affd",
   "metadata": {},
   "outputs": [],
   "source": [
    "device = \"\"\n",
    "if torch.cuda.is_available():\n",
    "    device = torch.device(\"cuda\")\n",
    "else:\n",
    "    device = torch.device(\"cpu\")"
   ]
  },
  {
   "cell_type": "markdown",
   "id": "e1ab0160",
   "metadata": {},
   "source": [
    "### Preparing the Training Data"
   ]
  },
  {
   "cell_type": "markdown",
   "id": "f778b5f8",
   "metadata": {},
   "source": [
    "* The MNIST dataset consists of 28 × 28 pixel grayscale images of handwritten digits from 0 to 9\n",
    "* To use them with PyTorch, we need to perform some conversions. For that, we define transform, a function to be used when loading the data:"
   ]
  },
  {
   "cell_type": "code",
   "execution_count": 4,
   "id": "2a5be2cc",
   "metadata": {},
   "outputs": [],
   "source": [
    "transform = transforms.Compose(\n",
    "    [transforms.ToTensor(), transforms.Normalize((0.5,), (0.5,))]\n",
    ")"
   ]
  },
  {
   "cell_type": "markdown",
   "id": "70053298",
   "metadata": {},
   "source": [
    "The function has two parts:\n",
    "* transforms.ToTensor() converts the data to a PyTorch tensor.\n",
    "* transforms.Normalize() converts the range of the tensor coefficients."
   ]
  },
  {
   "cell_type": "markdown",
   "id": "33f92cb4",
   "metadata": {},
   "source": [
    "* The original coefficients given by transforms.ToTensor() range from 0 to 1, and since the image backgrounds are black, most of the coefficients are equal to 0 when they’re represented using this range.\n",
    "* transforms.Normalize() changes the range of the coefficients to -1 to 1 by subtracting 0.5 from the original coefficients and dividing the result by 0.5.\n",
    "*  transforms.Normalize() are two tuples, (M₁, ..., Mₙ) and (S₁, ..., Sₙ), with n representing the number of channels of the images. \n",
    "* Grayscale images such as those in MNIST dataset have only one channel, so the tuples have only one value. \n",
    "* for each channel i of the image, transforms.Normalize() subtracts Mᵢ from the coefficients and divides the result by Sᵢ"
   ]
  },
  {
   "cell_type": "markdown",
   "id": "344e1d8a",
   "metadata": {},
   "source": [
    "load the training data using torchvision.datasets.MNIST and perform the conversions using transform:"
   ]
  },
  {
   "cell_type": "code",
   "execution_count": 5,
   "id": "01523ecb",
   "metadata": {},
   "outputs": [],
   "source": [
    "train_set = torchvision.datasets.MNIST(\n",
    "    root=\".\", train=True, download=True, transform=transform\n",
    ")"
   ]
  },
  {
   "cell_type": "markdown",
   "id": "5ec8defa",
   "metadata": {},
   "source": [
    "* The argument download=True ensures that the first time you run the above code, the MNIST dataset will be downloaded and stored in the current directory, as indicated by the argument root."
   ]
  },
  {
   "cell_type": "code",
   "execution_count": 6,
   "id": "f7f43d18",
   "metadata": {},
   "outputs": [],
   "source": [
    "batch_size = 32\n",
    "train_loader = torch.utils.data.DataLoader(\n",
    "    train_set, batch_size=batch_size, shuffle=True\n",
    ")"
   ]
  },
  {
   "cell_type": "code",
   "execution_count": 7,
   "id": "e47f8ec8",
   "metadata": {},
   "outputs": [],
   "source": [
    "import os\n",
    "os.environ[\"KMP_DUPLICATE_LIB_OK\"]=\"TRUE\""
   ]
  },
  {
   "cell_type": "code",
   "execution_count": 8,
   "id": "e14eb814",
   "metadata": {},
   "outputs": [
    {
     "data": {
      "image/png": "[encoded data removed]",
      "text/plain": [
       "<Figure size 432x288 with 16 Axes>"
      ]
     },
     "metadata": {},
     "output_type": "display_data"
    }
   ],
   "source": [
    "real_samples, mnist_labels = next(iter(train_loader))\n",
    "for i in range(16):\n",
    "    ax = plt.subplot(4, 4, i + 1)\n",
    "    plt.imshow(real_samples[i].reshape(28, 28), cmap=\"gray_r\")\n",
    "    plt.xticks([])\n",
    "    plt.yticks([])"
   ]
  },
  {
   "cell_type": "markdown",
   "id": "749d0a62",
   "metadata": {},
   "source": [
    "### Implementing the Discriminator"
   ]
  },
  {
   "cell_type": "markdown",
   "id": "9865ebca",
   "metadata": {},
   "source": [
    "* In this case, the discriminator is an MLP neural network that receives a 28 × 28 pixel image and \n",
    "* provides the probability of the image belonging to the real training data."
   ]
  },
  {
   "cell_type": "code",
   "execution_count": 9,
   "id": "3d0faa29",
   "metadata": {},
   "outputs": [],
   "source": [
    "class Discriminator(nn.Module):\n",
    "    def __init__(self):\n",
    "        super().__init__()\n",
    "        self.model = nn.Sequential(\n",
    "            nn.Linear(784, 1024),\n",
    "            nn.ReLU(),\n",
    "            nn.Dropout(0.3),\n",
    "            nn.Linear(1024, 512),\n",
    "            nn.ReLU(),\n",
    "            nn.Dropout(0.3),\n",
    "            nn.Linear(512, 256),\n",
    "            nn.ReLU(),\n",
    "            nn.Dropout(0.3),\n",
    "            nn.Linear(256, 1),\n",
    "            nn.Sigmoid(),\n",
    "        )\n",
    "\n",
    "    def forward(self, x):\n",
    "        x = x.view(x.size(0), 784)\n",
    "        output = self.model(x)\n",
    "        return output"
   ]
  },
  {
   "cell_type": "markdown",
   "id": "68382e21",
   "metadata": {},
   "source": [
    "* To input the image coefficients into the MLP neural network, \n",
    "* vectorize them so that the neural network receives vectors with 784 coefficients.\n",
    "* The vectorization occurs in the first line of .forward(), as the call to x.view() converts the shape of the input tensor. \n",
    "* In this case, the original shape of the input x is 32 × 1 × 28 × 28, where 32 is the batch size you’ve set up.\n",
    "* After the conversion, the shape of x becomes 32 × 784, with each line representing the coefficients of an image of the training set.\n",
    "* To run the discriminator model using the GPU, you have to instantiate it and send it to the GPU with .to()"
   ]
  },
  {
   "cell_type": "code",
   "execution_count": 10,
   "id": "468ba1cb",
   "metadata": {},
   "outputs": [],
   "source": [
    "discriminator = Discriminator().to(device=device)"
   ]
  },
  {
   "cell_type": "markdown",
   "id": "9c27817e",
   "metadata": {},
   "source": [
    "### Implementing the generator"
   ]
  },
  {
   "cell_type": "markdown",
   "id": "07136890",
   "metadata": {},
   "source": [
    "* Since the generator is going to generate more complex data, it’s necessary to increase the dimensions of the input from the latent space.\n",
    "* In this case, the generator is going to be fed a 100-dimensional input and will provide an output with 784 coefficients, which will be organized in a 28 × 28 tensor representing an image."
   ]
  },
  {
   "cell_type": "code",
   "execution_count": 11,
   "id": "6fd227ea",
   "metadata": {},
   "outputs": [],
   "source": [
    "class Generator(nn.Module):\n",
    "    def __init__(self):\n",
    "        super().__init__()\n",
    "        self.model = nn.Sequential(\n",
    "            nn.Linear(100, 256),\n",
    "            nn.ReLU(),\n",
    "            nn.Linear(256, 512),\n",
    "            nn.ReLU(),\n",
    "            nn.Linear(512, 1024),\n",
    "            nn.ReLU(),\n",
    "            nn.Linear(1024, 784),\n",
    "            nn.Tanh(),\n",
    "        )\n",
    "\n",
    "    def forward(self, x):\n",
    "        output = self.model(x)\n",
    "        output = output.view(x.size(0), 1, 28, 28)\n",
    "        return output\n",
    "\n",
    "generator = Generator().to(device=device)"
   ]
  },
  {
   "cell_type": "markdown",
   "id": "63cdec2f",
   "metadata": {},
   "source": [
    "* hyperbolic tangent function Tanh() as the activation of the output layer since the output coefficients should be in the interval from -1 to 1. \n"
   ]
  },
  {
   "cell_type": "markdown",
   "id": "f00e44b9",
   "metadata": {},
   "source": [
    "### Training the Models"
   ]
  },
  {
   "cell_type": "code",
   "execution_count": 12,
   "id": "67a70780",
   "metadata": {},
   "outputs": [],
   "source": [
    "lr = 0.0001\n",
    "# num_epochs = 50\n",
    "num_epochs = 5\n",
    "loss_function = nn.BCELoss()\n",
    "\n",
    "optimizer_discriminator = torch.optim.Adam(discriminator.parameters(), lr=lr)\n",
    "optimizer_generator = torch.optim.Adam(generator.parameters(), lr=lr)"
   ]
  },
  {
   "cell_type": "code",
   "execution_count": 13,
   "id": "5471c590",
   "metadata": {},
   "outputs": [
    {
     "name": "stdout",
     "output_type": "stream",
     "text": [
      "Epoch: 0 Loss D.: 0.5692477226257324\n",
      "Epoch: 0 Loss G.: 0.47790801525115967\n",
      "Epoch: 1 Loss D.: 0.009643511846661568\n",
      "Epoch: 1 Loss G.: 5.8984527587890625\n",
      "Epoch: 2 Loss D.: 0.011027583852410316\n",
      "Epoch: 2 Loss G.: 5.060005187988281\n",
      "Epoch: 3 Loss D.: 0.09286512434482574\n",
      "Epoch: 3 Loss G.: 4.20245885848999\n",
      "Epoch: 4 Loss D.: 0.07140043377876282\n",
      "Epoch: 4 Loss G.: 5.78773307800293\n"
     ]
    }
   ],
   "source": [
    "for epoch in range(num_epochs):\n",
    "    for n, (real_samples, mnist_labels) in enumerate(train_loader):\n",
    "        # Data for training the discriminator\n",
    "        real_samples = real_samples.to(device=device)\n",
    "        real_samples_labels = torch.ones((batch_size, 1)).to(\n",
    "            device=device\n",
    "        )\n",
    "        latent_space_samples = torch.randn((batch_size, 100)).to(\n",
    "            device=device\n",
    "        )\n",
    "        generated_samples = generator(latent_space_samples)\n",
    "        generated_samples_labels = torch.zeros((batch_size, 1)).to(\n",
    "            device=device\n",
    "        )\n",
    "        all_samples = torch.cat((real_samples, generated_samples))\n",
    "        all_samples_labels = torch.cat(\n",
    "            (real_samples_labels, generated_samples_labels)\n",
    "        )\n",
    "\n",
    "        # Training the discriminator\n",
    "        discriminator.zero_grad()\n",
    "        output_discriminator = discriminator(all_samples)\n",
    "        loss_discriminator = loss_function(\n",
    "            output_discriminator, all_samples_labels\n",
    "        )\n",
    "        loss_discriminator.backward()\n",
    "        optimizer_discriminator.step()\n",
    "\n",
    "        # Data for training the generator\n",
    "        latent_space_samples = torch.randn((batch_size, 100)).to(\n",
    "            device=device\n",
    "        )\n",
    "\n",
    "        # Training the generator\n",
    "        generator.zero_grad()\n",
    "        generated_samples = generator(latent_space_samples)\n",
    "        output_discriminator_generated = discriminator(generated_samples)\n",
    "        loss_generator = loss_function(\n",
    "            output_discriminator_generated, real_samples_labels\n",
    "        )\n",
    "        loss_generator.backward()\n",
    "        optimizer_generator.step()\n",
    "\n",
    "        # Show loss\n",
    "        if n == batch_size - 1:\n",
    "            print(f\"Epoch: {epoch} Loss D.: {loss_discriminator}\")\n",
    "            print(f\"Epoch: {epoch} Loss G.: {loss_generator}\")"
   ]
  },
  {
   "cell_type": "markdown",
   "id": "b412a1e2",
   "metadata": {},
   "source": [
    "### Checking the Samples Generated by the GAN"
   ]
  },
  {
   "cell_type": "markdown",
   "id": "4dcae1c6",
   "metadata": {},
   "source": [
    "* To generate handwritten digits, you have to take some random samples from the latent space and feed them to the generator"
   ]
  },
  {
   "cell_type": "code",
   "execution_count": 14,
   "id": "bd751c4c",
   "metadata": {},
   "outputs": [],
   "source": [
    "latent_space_samples = torch.randn(batch_size, 100).to(device=device)\n",
    "generated_samples = generator(latent_space_samples)"
   ]
  },
  {
   "cell_type": "markdown",
   "id": "45c31a51",
   "metadata": {},
   "source": [
    "#### ploting the generated_samples"
   ]
  },
  {
   "cell_type": "code",
   "execution_count": 15,
   "id": "6b43fdac",
   "metadata": {},
   "outputs": [
    {
     "data": {
      "image/png": "[encoded data removed]",
      "text/plain": [
       "<Figure size 432x288 with 16 Axes>"
      ]
     },
     "metadata": {},
     "output_type": "display_data"
    }
   ],
   "source": [
    "generated_samples = generated_samples.cpu().detach()\n",
    "for i in range(16):\n",
    "    ax = plt.subplot(4, 4, i + 1)\n",
    "    plt.imshow(generated_samples[i].reshape(28, 28), cmap=\"gray_r\")\n",
    "    plt.xticks([])\n",
    "    plt.yticks([])"
   ]
  },
  {
   "cell_type": "code",
   "execution_count": null,
   "id": "6c673eb2",
   "metadata": {},
   "outputs": [],
   "source": []
  },
  {
   "cell_type": "code",
   "execution_count": null,
   "id": "de9cfcfa",
   "metadata": {},
   "outputs": [],
   "source": []
  },
  {
   "cell_type": "code",
   "execution_count": null,
   "id": "28b85db2",
   "metadata": {},
   "outputs": [],
   "source": []
  },
  {
   "cell_type": "code",
   "execution_count": null,
   "id": "54c7fca9",
   "metadata": {},
   "outputs": [],
   "source": []
  },
  {
   "cell_type": "code",
   "execution_count": null,
   "id": "769fe3a4",
   "metadata": {},
   "outputs": [],
   "source": []
  }
 ],
 "metadata": {
  "kernelspec": {
   "display_name": "Python 3 (ipykernel)",
   "language": "python",
   "name": "python3"
  },
  "language_info": {
   "codemirror_mode": {
    "name": "ipython",
    "version": 3
   },
   "file_extension": ".py",
   "mimetype": "text/x-python",
   "name": "python",
   "nbconvert_exporter": "python",
   "pygments_lexer": "ipython3",
   "version": "3.9.7"
  }
 },
 "nbformat": 4,
 "nbformat_minor": 5
}
