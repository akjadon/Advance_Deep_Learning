{
 "cells": [
  {
   "cell_type": "markdown",
   "metadata": {
    "colab_type": "text",
    "id": "VTEGN4bfZheT"
   },
   "source": [
    "# Transfer Learning - Fashion MNIST\n",
    "\n",
    "Transfer Learning allows us to learn faster from a pre-trained model (on a similiar problem) by getting the feature transformation part\n",
    "\n",
    "There are two ways to do this\n",
    "- Get the prediction from the feature transformer and use that as an input to a new classifier.\n",
    "- Make the feature transformation from the pre-trained model false and only train the classifier."
   ]
  },
  {
   "cell_type": "code",
   "execution_count": 2,
   "metadata": {
    "colab": {
     "autoexec": {
      "startup": false,
      "wait_interval": 0
     },
     "base_uri": "https://localhost:8080/",
     "height": 34,
     "output_extras": [
      {
       "item_id": 1
      }
     ]
    },
    "colab_type": "code",
    "executionInfo": {
     "elapsed": 2572,
     "status": "ok",
     "timestamp": 1521300228267,
     "user": {
      "displayName": "Amit Kapoor",
      "photoUrl": "//lh4.googleusercontent.com/-D2AEUHCgcx8/AAAAAAAAAAI/AAAAAAAAAoY/0HFe1PWxMvQ/s50-c-k-no/photo.jpg",
      "userId": "115841624057400778059"
     },
     "user_tz": -330
    },
    "id": "JGQqwCPRZheX",
    "outputId": "5946c5b4-c22b-4cd0-c30a-1377e3d0140d"
   },
   "outputs": [],
   "source": [
    "import numpy as np\n",
    "import keras\n",
    "import tensorflow as tf\n",
    "import matplotlib.pyplot as plt\n",
    "%matplotlib inline\n",
    "import vis"
   ]
  },
  {
   "cell_type": "markdown",
   "metadata": {},
   "source": [
    "### Get Data "
   ]
  },
  {
   "cell_type": "code",
   "execution_count": 3,
   "metadata": {},
   "outputs": [],
   "source": [
    "from keras.datasets import fashion_mnist\n",
    "(x_train, y_train), (x_test, y_test) = fashion_mnist.load_data()"
   ]
  },
  {
   "cell_type": "code",
   "execution_count": 4,
   "metadata": {},
   "outputs": [],
   "source": [
    "labels = vis.fashion_mnist_label()"
   ]
  },
  {
   "cell_type": "markdown",
   "metadata": {},
   "source": [
    "**Step 1: Prepare the images and labels**"
   ]
  },
  {
   "cell_type": "code",
   "execution_count": 8,
   "metadata": {},
   "outputs": [],
   "source": [
    "# Reshape data for convlution netowkr\n",
    "x_train_conv = x_train.reshape(x_train.shape[0], 28, 28, 1)\n",
    "x_test_conv = x_test.reshape(x_test.shape[0], 28, 28, 1)\n",
    "input_shape = (28, 28, 1)\n",
    "\n",
    "# Convert from 'uint8' to 'float32' and normalise the data to (0,1) \n",
    "x_train_conv =  x_train_conv.astype(\"float32\") / 255\n",
    "x_test_conv = x_test_conv.astype(\"float32\") / 255\n",
    "\n",
    "# convert class vectors to binary class matrices\n",
    "y_train_class = tf.keras.utils.to_categorical(y_train, 10)\n",
    "y_test_class = tf.keras.utils.to_categorical(y_test, 10)"
   ]
  },
  {
   "cell_type": "markdown",
   "metadata": {
    "colab_type": "text",
    "id": "B8JTgp2lZhhG"
   },
   "source": [
    "Resize the image for the transfer learning model"
   ]
  },
  {
   "cell_type": "markdown",
   "metadata": {
    "colab_type": "text",
    "id": "1BV0PfRGZhhH"
   },
   "source": [
    "Lets resize the image from (28,28,1) to (48,48,3)"
   ]
  },
  {
   "cell_type": "code",
   "execution_count": 9,
   "metadata": {
    "colab": {
     "autoexec": {
      "startup": false,
      "wait_interval": 0
     }
    },
    "colab_type": "code",
    "id": "a0Em5OmiZhhJ"
   },
   "outputs": [],
   "source": [
    "from skimage.transform import resize"
   ]
  },
  {
   "cell_type": "code",
   "execution_count": 10,
   "metadata": {
    "colab": {
     "autoexec": {
      "startup": false,
      "wait_interval": 0
     }
    },
    "colab_type": "code",
    "id": "Ep6AxY43ZhhM"
   },
   "outputs": [],
   "source": [
    "def resize_image(image):\n",
    "    return resize(image, (96,96,3), mode=\"symmetric\")"
   ]
  },
  {
   "cell_type": "code",
   "execution_count": 11,
   "metadata": {
    "colab": {
     "autoexec": {
      "startup": false,
      "wait_interval": 0
     },
     "base_uri": "https://localhost:8080/",
     "height": 285,
     "output_extras": [
      {
       "item_id": 1
      },
      {
       "item_id": 2
      }
     ]
    },
    "colab_type": "code",
    "executionInfo": {
     "elapsed": 1219,
     "status": "ok",
     "timestamp": 1521300502985,
     "user": {
      "displayName": "Amit Kapoor",
      "photoUrl": "//lh4.googleusercontent.com/-D2AEUHCgcx8/AAAAAAAAAAI/AAAAAAAAAoY/0HFe1PWxMvQ/s50-c-k-no/photo.jpg",
      "userId": "115841624057400778059"
     },
     "user_tz": -330
    },
    "id": "ZE8f-mQoZhhQ",
    "outputId": "9fcd8b02-f210-4dcc-a01c-f48b46c0afa3"
   },
   "outputs": [
    {
     "data": {
      "image/png": "[encoded data removed]",
      "text/plain": [
       "<Figure size 432x288 with 1 Axes>"
      ]
     },
     "metadata": {
      "needs_background": "light"
     },
     "output_type": "display_data"
    }
   ],
   "source": [
    "plt.imshow(resize_image(x_train_conv[0]));"
   ]
  },
  {
   "cell_type": "markdown",
   "metadata": {
    "colab_type": "text",
    "id": "fadjg15eZhhW"
   },
   "source": [
    "Lets resize the 10000 images in train and test data"
   ]
  },
  {
   "cell_type": "code",
   "execution_count": 12,
   "metadata": {
    "colab": {
     "autoexec": {
      "startup": false,
      "wait_interval": 0
     },
     "base_uri": "https://localhost:8080/",
     "height": 34,
     "output_extras": [
      {
       "item_id": 1
      }
     ]
    },
    "colab_type": "code",
    "executionInfo": {
     "elapsed": 57878,
     "status": "ok",
     "timestamp": 1521300737660,
     "user": {
      "displayName": "Amit Kapoor",
      "photoUrl": "//lh4.googleusercontent.com/-D2AEUHCgcx8/AAAAAAAAAAI/AAAAAAAAAoY/0HFe1PWxMvQ/s50-c-k-no/photo.jpg",
      "userId": "115841624057400778059"
     },
     "user_tz": -330
    },
    "id": "hFgQHU8eZhhX",
    "outputId": "19b16009-cc0a-44f4-fdfd-d828110757f6"
   },
   "outputs": [
    {
     "data": {
      "text/plain": [
       "(10000, 96, 96, 3)"
      ]
     },
     "execution_count": 12,
     "metadata": {},
     "output_type": "execute_result"
    }
   ],
   "source": [
    "%timeit\n",
    "x_train_conv_resize = np.array([resize_image(x_train_conv[x]) for x in range(x_train_conv[:10000].shape[0])])\n",
    "x_train_conv_resize.shape"
   ]
  },
  {
   "cell_type": "code",
   "execution_count": 13,
   "metadata": {
    "colab": {
     "autoexec": {
      "startup": false,
      "wait_interval": 0
     },
     "base_uri": "https://localhost:8080/",
     "height": 34,
     "output_extras": [
      {
       "item_id": 1
      }
     ]
    },
    "colab_type": "code",
    "executionInfo": {
     "elapsed": 56175,
     "status": "ok",
     "timestamp": 1521300808676,
     "user": {
      "displayName": "Amit Kapoor",
      "photoUrl": "//lh4.googleusercontent.com/-D2AEUHCgcx8/AAAAAAAAAAI/AAAAAAAAAoY/0HFe1PWxMvQ/s50-c-k-no/photo.jpg",
      "userId": "115841624057400778059"
     },
     "user_tz": -330
    },
    "id": "WHHkM4bFZhhf",
    "outputId": "742463d3-2520-4a0b-dd0f-f2525d90f8a2"
   },
   "outputs": [
    {
     "data": {
      "text/plain": [
       "(10000, 96, 96, 3)"
      ]
     },
     "execution_count": 13,
     "metadata": {},
     "output_type": "execute_result"
    }
   ],
   "source": [
    "%timeit\n",
    "x_test_conv_resize = np.array([resize_image(x_test_conv[x]) for x in range(x_test_conv.shape[0])])\n",
    "x_test_conv_resize.shape"
   ]
  },
  {
   "cell_type": "markdown",
   "metadata": {},
   "source": [
    "**Step 2: Load a pre-trained model for the feature transfomation and add classifier model **"
   ]
  },
  {
   "cell_type": "markdown",
   "metadata": {
    "colab_type": "text",
    "id": "3sJh1HW_Zhhm"
   },
   "source": [
    "Let us load the VGG model without the classifier layer and **do not** train the weights"
   ]
  },
  {
   "cell_type": "code",
   "execution_count": 14,
   "metadata": {
    "colab": {
     "autoexec": {
      "startup": false,
      "wait_interval": 0
     }
    },
    "colab_type": "code",
    "id": "F-1xVwMhZhhp"
   },
   "outputs": [],
   "source": [
    "from keras.applications.vgg16 import VGG16"
   ]
  },
  {
   "cell_type": "code",
   "execution_count": 15,
   "metadata": {
    "colab": {
     "autoexec": {
      "startup": false,
      "wait_interval": 0
     }
    },
    "colab_type": "code",
    "id": "QqczTtGOZhhu"
   },
   "outputs": [
    {
     "name": "stdout",
     "output_type": "stream",
     "text": [
      "Downloading data from https://storage.googleapis.com/tensorflow/keras-applications/vgg16/vgg16_weights_tf_dim_ordering_tf_kernels_notop.h5\n",
      "58892288/58889256 [==============================] - 4s 0us/step\n",
      "58900480/58889256 [==============================] - 4s 0us/step\n"
     ]
    }
   ],
   "source": [
    "conv_base = VGG16(include_top=False, weights='imagenet', \n",
    "                        input_tensor=None, input_shape=(96,96,3), pooling=\"avg\")"
   ]
  },
  {
   "cell_type": "code",
   "execution_count": 16,
   "metadata": {
    "colab": {
     "autoexec": {
      "startup": false,
      "wait_interval": 0
     }
    },
    "colab_type": "code",
    "id": "FdKE8Y8bc9g6"
   },
   "outputs": [],
   "source": [
    "conv_base.trainable = False"
   ]
  },
  {
   "cell_type": "code",
   "execution_count": 17,
   "metadata": {
    "colab": {
     "autoexec": {
      "startup": false,
      "wait_interval": 0
     },
     "base_uri": "https://localhost:8080/",
     "height": 816,
     "output_extras": [
      {
       "item_id": 1
      }
     ]
    },
    "colab_type": "code",
    "executionInfo": {
     "elapsed": 831,
     "status": "ok",
     "timestamp": 1521300816287,
     "user": {
      "displayName": "Amit Kapoor",
      "photoUrl": "//lh4.googleusercontent.com/-D2AEUHCgcx8/AAAAAAAAAAI/AAAAAAAAAoY/0HFe1PWxMvQ/s50-c-k-no/photo.jpg",
      "userId": "115841624057400778059"
     },
     "user_tz": -330
    },
    "id": "EZI1AcKic2Z5",
    "outputId": "60ab59fe-7c30-4b57-9384-11a6468e5e3f"
   },
   "outputs": [
    {
     "name": "stdout",
     "output_type": "stream",
     "text": [
      "Model: \"vgg16\"\n",
      "_________________________________________________________________\n",
      " Layer (type)                Output Shape              Param #   \n",
      "=================================================================\n",
      " input_1 (InputLayer)        [(None, 96, 96, 3)]       0         \n",
      "                                                                 \n",
      " block1_conv1 (Conv2D)       (None, 96, 96, 64)        1792      \n",
      "                                                                 \n",
      " block1_conv2 (Conv2D)       (None, 96, 96, 64)        36928     \n",
      "                                                                 \n",
      " block1_pool (MaxPooling2D)  (None, 48, 48, 64)        0         \n",
      "                                                                 \n",
      " block2_conv1 (Conv2D)       (None, 48, 48, 128)       73856     \n",
      "                                                                 \n",
      " block2_conv2 (Conv2D)       (None, 48, 48, 128)       147584    \n",
      "                                                                 \n",
      " block2_pool (MaxPooling2D)  (None, 24, 24, 128)       0         \n",
      "                                                                 \n",
      " block3_conv1 (Conv2D)       (None, 24, 24, 256)       295168    \n",
      "                                                                 \n",
      " block3_conv2 (Conv2D)       (None, 24, 24, 256)       590080    \n",
      "                                                                 \n",
      " block3_conv3 (Conv2D)       (None, 24, 24, 256)       590080    \n",
      "                                                                 \n",
      " block3_pool (MaxPooling2D)  (None, 12, 12, 256)       0         \n",
      "                                                                 \n",
      " block4_conv1 (Conv2D)       (None, 12, 12, 512)       1180160   \n",
      "                                                                 \n",
      " block4_conv2 (Conv2D)       (None, 12, 12, 512)       2359808   \n",
      "                                                                 \n",
      " block4_conv3 (Conv2D)       (None, 12, 12, 512)       2359808   \n",
      "                                                                 \n",
      " block4_pool (MaxPooling2D)  (None, 6, 6, 512)         0         \n",
      "                                                                 \n",
      " block5_conv1 (Conv2D)       (None, 6, 6, 512)         2359808   \n",
      "                                                                 \n",
      " block5_conv2 (Conv2D)       (None, 6, 6, 512)         2359808   \n",
      "                                                                 \n",
      " block5_conv3 (Conv2D)       (None, 6, 6, 512)         2359808   \n",
      "                                                                 \n",
      " block5_pool (MaxPooling2D)  (None, 3, 3, 512)         0         \n",
      "                                                                 \n",
      " global_average_pooling2d (G  (None, 512)              0         \n",
      " lobalAveragePooling2D)                                          \n",
      "                                                                 \n",
      "=================================================================\n",
      "Total params: 14,714,688\n",
      "Trainable params: 0\n",
      "Non-trainable params: 14,714,688\n",
      "_________________________________________________________________\n"
     ]
    }
   ],
   "source": [
    "conv_base.summary()"
   ]
  },
  {
   "cell_type": "code",
   "execution_count": 18,
   "metadata": {},
   "outputs": [],
   "source": [
    "size = 1000"
   ]
  },
  {
   "cell_type": "code",
   "execution_count": 19,
   "metadata": {},
   "outputs": [],
   "source": [
    "x_train_conv_resize_vgg = conv_base.predict(x_train_conv_resize[:size])"
   ]
  },
  {
   "cell_type": "code",
   "execution_count": 20,
   "metadata": {},
   "outputs": [],
   "source": [
    "x_test_conv_resize_vgg = conv_base.predict(x_test_conv_resize)"
   ]
  },
  {
   "cell_type": "code",
   "execution_count": 21,
   "metadata": {},
   "outputs": [],
   "source": [
    "y_train_class_vgg = y_train_class[:size]"
   ]
  },
  {
   "cell_type": "code",
   "execution_count": 22,
   "metadata": {},
   "outputs": [
    {
     "data": {
      "text/plain": [
       "(1000, 512)"
      ]
     },
     "execution_count": 22,
     "metadata": {},
     "output_type": "execute_result"
    }
   ],
   "source": [
    "x_train_conv_resize_vgg.shape"
   ]
  },
  {
   "cell_type": "markdown",
   "metadata": {
    "colab_type": "text",
    "id": "o2AaA3fLZhh3"
   },
   "source": [
    "Lets build a Dense Layer Classifier after that to classify the fashion mnist data"
   ]
  },
  {
   "cell_type": "code",
   "execution_count": 23,
   "metadata": {},
   "outputs": [],
   "source": [
    "from keras.models import Sequential\n",
    "from keras.layers import Dense, Dropout"
   ]
  },
  {
   "cell_type": "code",
   "execution_count": 24,
   "metadata": {
    "colab": {
     "autoexec": {
      "startup": false,
      "wait_interval": 0
     }
    },
    "colab_type": "code",
    "id": "2DnTELYwZhh5"
   },
   "outputs": [],
   "source": [
    "model_transfer = Sequential()\n",
    "model_transfer.add(Dense(128, input_dim=512, activation='relu'))\n",
    "model_transfer.add(Dropout(0.25))\n",
    "model_transfer.add(Dense(64, activation='relu'))\n",
    "model_transfer.add(Dense(10, activation='softmax'))"
   ]
  },
  {
   "cell_type": "code",
   "execution_count": 25,
   "metadata": {
    "colab": {
     "autoexec": {
      "startup": false,
      "wait_interval": 0
     },
     "base_uri": "https://localhost:8080/",
     "height": 306,
     "output_extras": [
      {
       "item_id": 1
      }
     ]
    },
    "colab_type": "code",
    "executionInfo": {
     "elapsed": 830,
     "status": "ok",
     "timestamp": 1521300845139,
     "user": {
      "displayName": "Amit Kapoor",
      "photoUrl": "//lh4.googleusercontent.com/-D2AEUHCgcx8/AAAAAAAAAAI/AAAAAAAAAoY/0HFe1PWxMvQ/s50-c-k-no/photo.jpg",
      "userId": "115841624057400778059"
     },
     "user_tz": -330
    },
    "id": "f_ps2s5sZhh_",
    "outputId": "be3fb726-f41c-436a-8291-5b22988a4d6d"
   },
   "outputs": [
    {
     "name": "stdout",
     "output_type": "stream",
     "text": [
      "Model: \"sequential\"\n",
      "_________________________________________________________________\n",
      " Layer (type)                Output Shape              Param #   \n",
      "=================================================================\n",
      " dense (Dense)               (None, 128)               65664     \n",
      "                                                                 \n",
      " dropout (Dropout)           (None, 128)               0         \n",
      "                                                                 \n",
      " dense_1 (Dense)             (None, 64)                8256      \n",
      "                                                                 \n",
      " dense_2 (Dense)             (None, 10)                650       \n",
      "                                                                 \n",
      "=================================================================\n",
      "Total params: 74,570\n",
      "Trainable params: 74,570\n",
      "Non-trainable params: 0\n",
      "_________________________________________________________________\n"
     ]
    }
   ],
   "source": [
    "model_transfer.summary()"
   ]
  },
  {
   "cell_type": "markdown",
   "metadata": {},
   "source": [
    "**Step 3: Compile and fit the model**"
   ]
  },
  {
   "cell_type": "code",
   "execution_count": 26,
   "metadata": {
    "colab": {
     "autoexec": {
      "startup": false,
      "wait_interval": 0
     }
    },
    "colab_type": "code",
    "id": "RLKx_3poZhiF"
   },
   "outputs": [],
   "source": [
    "model_transfer.compile(loss='categorical_crossentropy', optimizer=\"adam\", metrics=['accuracy'])"
   ]
  },
  {
   "cell_type": "code",
   "execution_count": 27,
   "metadata": {
    "colab": {
     "autoexec": {
      "startup": false,
      "wait_interval": 0
     },
     "base_uri": "https://localhost:8080/",
     "height": 258,
     "output_extras": [
      {
       "item_id": 184
      },
      {
       "item_id": 235
      }
     ]
    },
    "colab_type": "code",
    "collapsed": true,
    "executionInfo": {
     "elapsed": 105236,
     "status": "ok",
     "timestamp": 1521300957552,
     "user": {
      "displayName": "Amit Kapoor",
      "photoUrl": "//lh4.googleusercontent.com/-D2AEUHCgcx8/AAAAAAAAAAI/AAAAAAAAAoY/0HFe1PWxMvQ/s50-c-k-no/photo.jpg",
      "userId": "115841624057400778059"
     },
     "user_tz": -330
    },
    "id": "fNQM59wUZhiK",
    "outputId": "cf874918-d774-4b1e-c34a-db2897dcdcdc"
   },
   "outputs": [
    {
     "name": "stdout",
     "output_type": "stream",
     "text": [
      "Wall time: 0 ns\n",
      "Epoch 1/5\n",
      "50/50 [==============================] - 1s 5ms/step - loss: 2.0920 - accuracy: 0.2700 - val_loss: 1.6628 - val_accuracy: 0.5250\n",
      "Epoch 2/5\n",
      "50/50 [==============================] - 0s 2ms/step - loss: 1.4116 - accuracy: 0.5213 - val_loss: 1.1128 - val_accuracy: 0.6300\n",
      "Epoch 3/5\n",
      "50/50 [==============================] - 0s 2ms/step - loss: 0.9978 - accuracy: 0.6637 - val_loss: 0.8374 - val_accuracy: 0.6850\n",
      "Epoch 4/5\n",
      "50/50 [==============================] - 0s 2ms/step - loss: 0.8076 - accuracy: 0.7025 - val_loss: 0.6909 - val_accuracy: 0.7500\n",
      "Epoch 5/5\n",
      "50/50 [==============================] - 0s 2ms/step - loss: 0.7245 - accuracy: 0.7337 - val_loss: 0.6402 - val_accuracy: 0.7900\n"
     ]
    }
   ],
   "source": [
    "%time\n",
    "output_transfer = model_transfer.fit(x_train_conv_resize_vgg, y_train_class_vgg, \n",
    "                                      batch_size=16, epochs=5, verbose=1, validation_split = 0.2)"
   ]
  },
  {
   "cell_type": "markdown",
   "metadata": {},
   "source": [
    "**Step 4: Check the performance of the model**"
   ]
  },
  {
   "cell_type": "code",
   "execution_count": 28,
   "metadata": {},
   "outputs": [
    {
     "data": {
      "text/html": [
       "\n",
       "<div id=\"altair-viz-160cf5ac60d8483cbe38ba2933a59b0b\"></div>\n",
       "<script type=\"text/javascript\">\n",
       "  var VEGA_DEBUG = (typeof VEGA_DEBUG == \"undefined\") ? {} : VEGA_DEBUG;\n",
       "  (function(spec, embedOpt){\n",
       "    let outputDiv = document.currentScript.previousElementSibling;\n",
       "    if (outputDiv.id !== \"altair-viz-160cf5ac60d8483cbe38ba2933a59b0b\") {\n",
       "      outputDiv = document.getElementById(\"altair-viz-160cf5ac60d8483cbe38ba2933a59b0b\");\n",
       "    }\n",
       "    const paths = {\n",
       "      \"vega\": \"https://cdn.jsdelivr.net/npm//vega@5?noext\",\n",
       "      \"vega-lib\": \"https://cdn.jsdelivr.net/npm//vega-lib?noext\",\n",
       "      \"vega-lite\": \"https://cdn.jsdelivr.net/npm//vega-lite@4.17.0?noext\",\n",
       "      \"vega-embed\": \"https://cdn.jsdelivr.net/npm//vega-embed@6?noext\",\n",
       "    };\n",
       "\n",
       "    function maybeLoadScript(lib, version) {\n",
       "      var key = `${lib.replace(\"-\", \"\")}_version`;\n",
       "      return (VEGA_DEBUG[key] == version) ?\n",
       "        Promise.resolve(paths[lib]) :\n",
       "        new Promise(function(resolve, reject) {\n",
       "          var s = document.createElement('script');\n",
       "          document.getElementsByTagName(\"head\")[0].appendChild(s);\n",
       "          s.async = true;\n",
       "          s.onload = () => {\n",
       "            VEGA_DEBUG[key] = version;\n",
       "            return resolve(paths[lib]);\n",
       "          };\n",
       "          s.onerror = () => reject(`Error loading script: ${paths[lib]}`);\n",
       "          s.src = paths[lib];\n",
       "        });\n",
       "    }\n",
       "\n",
       "    function showError(err) {\n",
       "      outputDiv.innerHTML = `<div class=\"error\" style=\"color:red;\">${err}</div>`;\n",
       "      throw err;\n",
       "    }\n",
       "\n",
       "    function displayChart(vegaEmbed) {\n",
       "      vegaEmbed(outputDiv, spec, embedOpt)\n",
       "        .catch(err => showError(`Javascript Error: ${err.message}<br>This usually means there's a typo in your chart specification. See the javascript console for the full traceback.`));\n",
       "    }\n",
       "\n",
       "    if(typeof define === \"function\" && define.amd) {\n",
       "      requirejs.config({paths});\n",
       "      require([\"vega-embed\"], displayChart, err => showError(`Error loading script: ${err.message}`));\n",
       "    } else {\n",
       "      maybeLoadScript(\"vega\", \"5\")\n",
       "        .then(() => maybeLoadScript(\"vega-lite\", \"4.17.0\"))\n",
       "        .then(() => maybeLoadScript(\"vega-embed\", \"6\"))\n",
       "        .catch(showError)\n",
       "        .then(() => displayChart(vegaEmbed));\n",
       "    }\n",
       "  })({\"config\": {\"view\": {\"continuousWidth\": 400, \"continuousHeight\": 300}}, \"data\": {\"name\": \"data-8241275f4eeaf666ef6510f197e37e71\"}, \"facet\": {\"column\": {\"field\": \"metrics\", \"type\": \"nominal\"}}, \"spec\": {\"layer\": [{\"mark\": {\"type\": \"circle\", \"size\": 50}, \"encoding\": {\"color\": {\"field\": \"type\", \"type\": \"nominal\"}, \"tooltip\": [{\"field\": \"batch\", \"type\": \"quantitative\"}, {\"field\": \"value\", \"type\": \"quantitative\"}], \"x\": {\"field\": \"batch\", \"type\": \"quantitative\"}, \"y\": {\"field\": \"value\", \"type\": \"quantitative\"}}, \"height\": 300, \"width\": 300}, {\"mark\": \"line\", \"encoding\": {\"color\": {\"field\": \"type\", \"type\": \"nominal\"}, \"x\": {\"field\": \"batch\", \"type\": \"quantitative\"}, \"y\": {\"field\": \"value\", \"type\": \"quantitative\"}}, \"height\": 300, \"width\": 300}]}, \"resolve\": {\"scale\": {\"y\": \"independent\"}}, \"$schema\": \"https://vega.github.io/schema/vega-lite/v4.17.0.json\", \"datasets\": {\"data-8241275f4eeaf666ef6510f197e37e71\": [{\"batch\": 1, \"value\": 2.092026472091675, \"type\": \"training\", \"metrics\": \"loss\"}, {\"batch\": 2, \"value\": 1.4115594625473022, \"type\": \"training\", \"metrics\": \"loss\"}, {\"batch\": 3, \"value\": 0.9978084564208984, \"type\": \"training\", \"metrics\": \"loss\"}, {\"batch\": 4, \"value\": 0.8076493740081787, \"type\": \"training\", \"metrics\": \"loss\"}, {\"batch\": 5, \"value\": 0.7244663238525391, \"type\": \"training\", \"metrics\": \"loss\"}, {\"batch\": 1, \"value\": 0.27000001072883606, \"type\": \"training\", \"metrics\": \"accuracy\"}, {\"batch\": 2, \"value\": 0.5212500095367432, \"type\": \"training\", \"metrics\": \"accuracy\"}, {\"batch\": 3, \"value\": 0.6637499928474426, \"type\": \"training\", \"metrics\": \"accuracy\"}, {\"batch\": 4, \"value\": 0.7024999856948853, \"type\": \"training\", \"metrics\": \"accuracy\"}, {\"batch\": 5, \"value\": 0.7337499856948853, \"type\": \"training\", \"metrics\": \"accuracy\"}, {\"batch\": 1, \"value\": 1.662837266921997, \"type\": \"validation\", \"metrics\": \"loss\"}, {\"batch\": 2, \"value\": 1.1127676963806152, \"type\": \"validation\", \"metrics\": \"loss\"}, {\"batch\": 3, \"value\": 0.8373717665672302, \"type\": \"validation\", \"metrics\": \"loss\"}, {\"batch\": 4, \"value\": 0.6908512711524963, \"type\": \"validation\", \"metrics\": \"loss\"}, {\"batch\": 5, \"value\": 0.6401746273040771, \"type\": \"validation\", \"metrics\": \"loss\"}, {\"batch\": 1, \"value\": 0.5249999761581421, \"type\": \"validation\", \"metrics\": \"accuracy\"}, {\"batch\": 2, \"value\": 0.6299999952316284, \"type\": \"validation\", \"metrics\": \"accuracy\"}, {\"batch\": 3, \"value\": 0.6850000023841858, \"type\": \"validation\", \"metrics\": \"accuracy\"}, {\"batch\": 4, \"value\": 0.75, \"type\": \"validation\", \"metrics\": \"accuracy\"}, {\"batch\": 5, \"value\": 0.7900000214576721, \"type\": \"validation\", \"metrics\": \"accuracy\"}]}}, {\"mode\": \"vega-lite\"});\n",
       "</script>"
      ],
      "text/plain": [
       "alt.FacetChart(...)"
      ]
     },
     "execution_count": 28,
     "metadata": {},
     "output_type": "execute_result"
    }
   ],
   "source": [
    "vis.metrics(output_transfer.history)"
   ]
  },
  {
   "cell_type": "code",
   "execution_count": 30,
   "metadata": {},
   "outputs": [
    {
     "name": "stdout",
     "output_type": "stream",
     "text": [
      "313/313 [==============================] - 0s 888us/step - loss: 0.6877 - accuracy: 0.7748\n"
     ]
    }
   ],
   "source": [
    "# score = model_transfer.evaluate(x_test_conv_reshape_vgg, y_test_class, verbose=1)\n",
    "score = model_transfer.evaluate(x_test_conv_resize_vgg, y_test_class, verbose=1)\n"
   ]
  },
  {
   "cell_type": "code",
   "execution_count": 31,
   "metadata": {
    "colab": {
     "autoexec": {
      "startup": false,
      "wait_interval": 0
     },
     "base_uri": "https://localhost:8080/",
     "height": 374,
     "output_extras": [
      {
       "item_id": 1
      }
     ]
    },
    "colab_type": "code",
    "executionInfo": {
     "elapsed": 1161,
     "status": "ok",
     "timestamp": 1521300979109,
     "user": {
      "displayName": "Amit Kapoor",
      "photoUrl": "//lh4.googleusercontent.com/-D2AEUHCgcx8/AAAAAAAAAAI/AAAAAAAAAoY/0HFe1PWxMvQ/s50-c-k-no/photo.jpg",
      "userId": "115841624057400778059"
     },
     "user_tz": -330
    },
    "id": "QtUXU4xRbgL4",
    "outputId": "0f5d659a-29f8-4e0d-dd27-9c07d558c476"
   },
   "outputs": [
    {
     "name": "stdout",
     "output_type": "stream",
     "text": [
      "Test loss: 0.6877223253250122\n",
      "Test accuracy: 0.7748000025749207\n"
     ]
    }
   ],
   "source": [
    "print('Test loss:', score[0])\n",
    "print('Test accuracy:', score[1])"
   ]
  },
  {
   "cell_type": "markdown",
   "metadata": {},
   "source": [
    "**Step 5: Make & Visualise the Prediction**"
   ]
  },
  {
   "cell_type": "code",
   "execution_count": 35,
   "metadata": {},
   "outputs": [],
   "source": [
    "# predict_classes_transfer = model_transfer.predict_classes(x_test_conv_reshape_vgg)\n",
    "predict_classes = model_transfer.predict(x_test_conv_resize_vgg)\n",
    "predict_classes_transfer = np.argmax(predict_classes,axis=1)"
   ]
  },
  {
   "cell_type": "code",
   "execution_count": 37,
   "metadata": {
    "colab": {
     "autoexec": {
      "startup": false,
      "wait_interval": 0
     }
    },
    "colab_type": "code",
    "collapsed": true,
    "id": "qOJk0ncjcBoa"
   },
   "outputs": [
    {
     "data": {
      "text/html": [
       "<div>\n",
       "<style scoped>\n",
       "    .dataframe tbody tr th:only-of-type {\n",
       "        vertical-align: middle;\n",
       "    }\n",
       "\n",
       "    .dataframe tbody tr th {\n",
       "        vertical-align: top;\n",
       "    }\n",
       "\n",
       "    .dataframe thead th {\n",
       "        text-align: right;\n",
       "    }\n",
       "</style>\n",
       "<table border=\"1\" class=\"dataframe\">\n",
       "  <thead>\n",
       "    <tr style=\"text-align: right;\">\n",
       "      <th>col_0</th>\n",
       "      <th>0</th>\n",
       "      <th>1</th>\n",
       "      <th>2</th>\n",
       "      <th>3</th>\n",
       "      <th>4</th>\n",
       "      <th>5</th>\n",
       "      <th>6</th>\n",
       "      <th>7</th>\n",
       "      <th>8</th>\n",
       "      <th>9</th>\n",
       "    </tr>\n",
       "    <tr>\n",
       "      <th>row_0</th>\n",
       "      <th></th>\n",
       "      <th></th>\n",
       "      <th></th>\n",
       "      <th></th>\n",
       "      <th></th>\n",
       "      <th></th>\n",
       "      <th></th>\n",
       "      <th></th>\n",
       "      <th></th>\n",
       "      <th></th>\n",
       "    </tr>\n",
       "  </thead>\n",
       "  <tbody>\n",
       "    <tr>\n",
       "      <th>0</th>\n",
       "      <td>651</td>\n",
       "      <td>1</td>\n",
       "      <td>19</td>\n",
       "      <td>108</td>\n",
       "      <td>7</td>\n",
       "      <td>1</td>\n",
       "      <td>181</td>\n",
       "      <td>0</td>\n",
       "      <td>19</td>\n",
       "      <td>13</td>\n",
       "    </tr>\n",
       "    <tr>\n",
       "      <th>1</th>\n",
       "      <td>1</td>\n",
       "      <td>928</td>\n",
       "      <td>6</td>\n",
       "      <td>56</td>\n",
       "      <td>1</td>\n",
       "      <td>0</td>\n",
       "      <td>8</td>\n",
       "      <td>0</td>\n",
       "      <td>0</td>\n",
       "      <td>0</td>\n",
       "    </tr>\n",
       "    <tr>\n",
       "      <th>2</th>\n",
       "      <td>13</td>\n",
       "      <td>0</td>\n",
       "      <td>640</td>\n",
       "      <td>20</td>\n",
       "      <td>178</td>\n",
       "      <td>0</td>\n",
       "      <td>146</td>\n",
       "      <td>0</td>\n",
       "      <td>3</td>\n",
       "      <td>0</td>\n",
       "    </tr>\n",
       "    <tr>\n",
       "      <th>3</th>\n",
       "      <td>30</td>\n",
       "      <td>36</td>\n",
       "      <td>20</td>\n",
       "      <td>788</td>\n",
       "      <td>57</td>\n",
       "      <td>0</td>\n",
       "      <td>61</td>\n",
       "      <td>0</td>\n",
       "      <td>6</td>\n",
       "      <td>2</td>\n",
       "    </tr>\n",
       "    <tr>\n",
       "      <th>4</th>\n",
       "      <td>4</td>\n",
       "      <td>1</td>\n",
       "      <td>85</td>\n",
       "      <td>101</td>\n",
       "      <td>700</td>\n",
       "      <td>0</td>\n",
       "      <td>108</td>\n",
       "      <td>0</td>\n",
       "      <td>1</td>\n",
       "      <td>0</td>\n",
       "    </tr>\n",
       "    <tr>\n",
       "      <th>5</th>\n",
       "      <td>0</td>\n",
       "      <td>0</td>\n",
       "      <td>0</td>\n",
       "      <td>0</td>\n",
       "      <td>0</td>\n",
       "      <td>859</td>\n",
       "      <td>0</td>\n",
       "      <td>88</td>\n",
       "      <td>3</td>\n",
       "      <td>50</td>\n",
       "    </tr>\n",
       "    <tr>\n",
       "      <th>6</th>\n",
       "      <td>121</td>\n",
       "      <td>1</td>\n",
       "      <td>80</td>\n",
       "      <td>86</td>\n",
       "      <td>166</td>\n",
       "      <td>2</td>\n",
       "      <td>526</td>\n",
       "      <td>0</td>\n",
       "      <td>12</td>\n",
       "      <td>6</td>\n",
       "    </tr>\n",
       "    <tr>\n",
       "      <th>7</th>\n",
       "      <td>0</td>\n",
       "      <td>0</td>\n",
       "      <td>0</td>\n",
       "      <td>0</td>\n",
       "      <td>0</td>\n",
       "      <td>59</td>\n",
       "      <td>0</td>\n",
       "      <td>793</td>\n",
       "      <td>0</td>\n",
       "      <td>148</td>\n",
       "    </tr>\n",
       "    <tr>\n",
       "      <th>8</th>\n",
       "      <td>12</td>\n",
       "      <td>2</td>\n",
       "      <td>0</td>\n",
       "      <td>23</td>\n",
       "      <td>10</td>\n",
       "      <td>14</td>\n",
       "      <td>20</td>\n",
       "      <td>5</td>\n",
       "      <td>902</td>\n",
       "      <td>12</td>\n",
       "    </tr>\n",
       "    <tr>\n",
       "      <th>9</th>\n",
       "      <td>0</td>\n",
       "      <td>0</td>\n",
       "      <td>0</td>\n",
       "      <td>1</td>\n",
       "      <td>0</td>\n",
       "      <td>5</td>\n",
       "      <td>0</td>\n",
       "      <td>30</td>\n",
       "      <td>3</td>\n",
       "      <td>961</td>\n",
       "    </tr>\n",
       "  </tbody>\n",
       "</table>\n",
       "</div>"
      ],
      "text/plain": [
       "col_0    0    1    2    3    4    5    6    7    8    9\n",
       "row_0                                                  \n",
       "0      651    1   19  108    7    1  181    0   19   13\n",
       "1        1  928    6   56    1    0    8    0    0    0\n",
       "2       13    0  640   20  178    0  146    0    3    0\n",
       "3       30   36   20  788   57    0   61    0    6    2\n",
       "4        4    1   85  101  700    0  108    0    1    0\n",
       "5        0    0    0    0    0  859    0   88    3   50\n",
       "6      121    1   80   86  166    2  526    0   12    6\n",
       "7        0    0    0    0    0   59    0  793    0  148\n",
       "8       12    2    0   23   10   14   20    5  902   12\n",
       "9        0    0    0    1    0    5    0   30    3  961"
      ]
     },
     "execution_count": 37,
     "metadata": {},
     "output_type": "execute_result"
    }
   ],
   "source": [
    "import pandas as pd\n",
    "pd.crosstab(y_test, predict_classes_transfer)"
   ]
  },
  {
   "cell_type": "code",
   "execution_count": 41,
   "metadata": {},
   "outputs": [],
   "source": [
    "# proba_transfer = model_transfer_conv.predict_proba(x_test_conv_reshape_vgg)\n",
    "predict_prob = model_transfer.predict(x_test_conv_resize_vgg)\n",
    "proba_transfer = np.argmax(predict_prob,axis=1)"
   ]
  },
  {
   "cell_type": "code",
   "execution_count": 54,
   "metadata": {
    "collapsed": true
   },
   "outputs": [
    {
     "ename": "NameError",
     "evalue": "name 'i' is not defined",
     "output_type": "error",
     "traceback": [
      "\u001b[1;31m---------------------------------------------------------------------------\u001b[0m",
      "\u001b[1;31mNameError\u001b[0m                                 Traceback (most recent call last)",
      "\u001b[1;32m~\\AppData\\Local\\Temp/ipykernel_18512/3720937264.py\u001b[0m in \u001b[0;36m<module>\u001b[1;34m\u001b[0m\n\u001b[1;32m----> 1\u001b[1;33m \u001b[0mvis\u001b[0m\u001b[1;33m.\u001b[0m\u001b[0mimshow\u001b[0m\u001b[1;33m(\u001b[0m\u001b[0mx_test\u001b[0m\u001b[1;33m[\u001b[0m\u001b[0mi\u001b[0m\u001b[1;33m]\u001b[0m\u001b[1;33m,\u001b[0m \u001b[0mlabels\u001b[0m\u001b[1;33m[\u001b[0m\u001b[0my_test\u001b[0m\u001b[1;33m[\u001b[0m\u001b[0mi\u001b[0m\u001b[1;33m]\u001b[0m\u001b[1;33m]\u001b[0m\u001b[1;33m)\u001b[0m \u001b[1;33m|\u001b[0m \u001b[0mvis\u001b[0m\u001b[1;33m.\u001b[0m\u001b[0mpredict\u001b[0m\u001b[1;33m(\u001b[0m\u001b[0mproba_transfer\u001b[0m\u001b[1;33m[\u001b[0m\u001b[0mi\u001b[0m\u001b[1;33m]\u001b[0m\u001b[1;33m,\u001b[0m \u001b[0my_test\u001b[0m\u001b[1;33m[\u001b[0m\u001b[0mi\u001b[0m\u001b[1;33m]\u001b[0m\u001b[1;33m,\u001b[0m \u001b[0mlabels\u001b[0m\u001b[1;33m)\u001b[0m\u001b[1;33m\u001b[0m\u001b[1;33m\u001b[0m\u001b[0m\n\u001b[0m",
      "\u001b[1;31mNameError\u001b[0m: name 'i' is not defined"
     ]
    }
   ],
   "source": [
    "vis.imshow(x_test[i], labels[y_test[i]]) | vis.predict(proba_transfer[i], y_test[i], labels)"
   ]
  },
  {
   "cell_type": "code",
   "execution_count": 79,
   "metadata": {
    "collapsed": true
   },
   "outputs": [
    {
     "data": {
      "text/html": [
       "\n",
       "<div id=\"altair-viz-6412a3bd7cd243eeb845a01ff8041bb1\"></div>\n",
       "<script type=\"text/javascript\">\n",
       "  var VEGA_DEBUG = (typeof VEGA_DEBUG == \"undefined\") ? {} : VEGA_DEBUG;\n",
       "  (function(spec, embedOpt){\n",
       "    let outputDiv = document.currentScript.previousElementSibling;\n",
       "    if (outputDiv.id !== \"altair-viz-6412a3bd7cd243eeb845a01ff8041bb1\") {\n",
       "      outputDiv = document.getElementById(\"altair-viz-6412a3bd7cd243eeb845a01ff8041bb1\");\n",
       "    }\n",
       "    const paths = {\n",
       "      \"vega\": \"https://cdn.jsdelivr.net/npm//vega@5?noext\",\n",
       "      \"vega-lib\": \"https://cdn.jsdelivr.net/npm//vega-lib?noext\",\n",
       "      \"vega-lite\": \"https://cdn.jsdelivr.net/npm//vega-lite@4.17.0?noext\",\n",
       "      \"vega-embed\": \"https://cdn.jsdelivr.net/npm//vega-embed@6?noext\",\n",
       "    };\n",
       "\n",
       "    function maybeLoadScript(lib, version) {\n",
       "      var key = `${lib.replace(\"-\", \"\")}_version`;\n",
       "      return (VEGA_DEBUG[key] == version) ?\n",
       "        Promise.resolve(paths[lib]) :\n",
       "        new Promise(function(resolve, reject) {\n",
       "          var s = document.createElement('script');\n",
       "          document.getElementsByTagName(\"head\")[0].appendChild(s);\n",
       "          s.async = true;\n",
       "          s.onload = () => {\n",
       "            VEGA_DEBUG[key] = version;\n",
       "            return resolve(paths[lib]);\n",
       "          };\n",
       "          s.onerror = () => reject(`Error loading script: ${paths[lib]}`);\n",
       "          s.src = paths[lib];\n",
       "        });\n",
       "    }\n",
       "\n",
       "    function showError(err) {\n",
       "      outputDiv.innerHTML = `<div class=\"error\" style=\"color:red;\">${err}</div>`;\n",
       "      throw err;\n",
       "    }\n",
       "\n",
       "    function displayChart(vegaEmbed) {\n",
       "      vegaEmbed(outputDiv, spec, embedOpt)\n",
       "        .catch(err => showError(`Javascript Error: ${err.message}<br>This usually means there's a typo in your chart specification. See the javascript console for the full traceback.`));\n",
       "    }\n",
       "\n",
       "    if(typeof define === \"function\" && define.amd) {\n",
       "      requirejs.config({paths});\n",
       "      require([\"vega-embed\"], displayChart, err => showError(`Error loading script: ${err.message}`));\n",
       "    } else {\n",
       "      maybeLoadScript(\"vega\", \"5\")\n",
       "        .then(() => maybeLoadScript(\"vega-lite\", \"4.17.0\"))\n",
       "        .then(() => maybeLoadScript(\"vega-embed\", \"6\"))\n",
       "        .catch(showError)\n",
       "        .then(() => displayChart(vegaEmbed));\n",
       "    }\n",
       "  })({\"config\": {\"view\": {\"continuousWidth\": 400, \"continuousHeight\": 300}}, \"data\": {\"name\": \"data-fcc568cf7a5d6b8e36380dbaeba3d304\"}, \"mark\": \"bar\", \"encoding\": {\"color\": {\"field\": \"actual\", \"type\": \"nominal\"}, \"tooltip\": [{\"field\": \"proba\", \"type\": \"quantitative\"}], \"x\": {\"field\": \"proba\", \"scale\": {\"domain\": [0, 1]}, \"type\": \"quantitative\"}, \"y\": {\"field\": \"labels\", \"type\": \"nominal\"}}, \"height\": 350, \"title\": \"Prediction: T-shirt/top\", \"width\": 350, \"$schema\": \"https://vega.github.io/schema/vega-lite/v4.17.0.json\", \"datasets\": {\"data-fcc568cf7a5d6b8e36380dbaeba3d304\": [{\"proba\": 9, \"labels\": \"T-shirt/top\", \"actual\": false}, {\"proba\": 2, \"labels\": \"Trouser\", \"actual\": false}, {\"proba\": 1, \"labels\": \"Pullover\", \"actual\": false}, {\"proba\": 1, \"labels\": \"Dress\", \"actual\": false}, {\"proba\": 6, \"labels\": \"Coat\", \"actual\": false}, {\"proba\": 1, \"labels\": \"Sandal\", \"actual\": false}, {\"proba\": 6, \"labels\": \"Shirt\", \"actual\": false}, {\"proba\": 6, \"labels\": \"Sneaker\", \"actual\": false}, {\"proba\": 5, \"labels\": \"Bag\", \"actual\": false}, {\"proba\": 5, \"labels\": \"Ankle boot\", \"actual\": false}, {\"proba\": 4, \"labels\": null, \"actual\": false}, {\"proba\": 5, \"labels\": null, \"actual\": false}, {\"proba\": 7, \"labels\": null, \"actual\": false}, {\"proba\": 3, \"labels\": null, \"actual\": false}, {\"proba\": 4, \"labels\": null, \"actual\": false}, {\"proba\": 1, \"labels\": null, \"actual\": false}, {\"proba\": 2, \"labels\": null, \"actual\": false}, {\"proba\": 6, \"labels\": null, \"actual\": false}, {\"proba\": 8, \"labels\": null, \"actual\": false}, {\"proba\": 0, \"labels\": null, \"actual\": false}]}}, {\"mode\": \"vega-lite\"});\n",
       "</script>"
      ],
      "text/plain": [
       "alt.Chart(...)"
      ]
     },
     "execution_count": 79,
     "metadata": {},
     "output_type": "execute_result"
    }
   ],
   "source": [
    "vis.predict(proba_transfer[:20], y_test[:20], labels)"
   ]
  }
 ],
 "metadata": {
  "accelerator": "GPU",
  "colab": {
   "default_view": {},
   "name": "04-Transfer-Learning.ipynb",
   "provenance": [],
   "version": "0.3.2",
   "views": {}
  },
  "kernelspec": {
   "display_name": "Python 3 (ipykernel)",
   "language": "python",
   "name": "python3"
  },
  "language_info": {
   "codemirror_mode": {
    "name": "ipython",
    "version": 3
   },
   "file_extension": ".py",
   "mimetype": "text/x-python",
   "name": "python",
   "nbconvert_exporter": "python",
   "pygments_lexer": "ipython3",
   "version": "3.9.7"
  }
 },
 "nbformat": 4,
 "nbformat_minor": 2
}
