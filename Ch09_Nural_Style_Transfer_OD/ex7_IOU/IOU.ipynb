{
 "cells": [
  {
   "cell_type": "markdown",
   "metadata": {
    "colab_type": "text",
    "id": "hq2ZXrEfX-0x"
   },
   "source": [
    "### Problem Statement: \n",
    "Generate a random rectangle, detect the object using Keras, and evaluate IOU for the prediction."
   ]
  },
  {
   "cell_type": "markdown",
   "metadata": {
    "colab_type": "text",
    "id": "O0N7jUT0YYsM"
   },
   "source": [
    "### Import the libraries"
   ]
  },
  {
   "cell_type": "code",
   "execution_count": 1,
   "metadata": {
    "colab": {},
    "colab_type": "code",
    "id": "SGtME09kNyre"
   },
   "outputs": [],
   "source": [
    "import warnings\n",
    "warnings.filterwarnings('ignore')"
   ]
  },
  {
   "cell_type": "code",
   "execution_count": 3,
   "metadata": {
    "colab": {},
    "colab_type": "code",
    "id": "f7nQgQ09Nyrn",
    "outputId": "582e225c-123c-4975-f2ee-c48fe9812c58"
   },
   "outputs": [],
   "source": [
    "import numpy as np\n",
    "import matplotlib.pyplot as plt\n",
    "from matplotlib.patches import Rectangle\n",
    "import tensorflow as tf\n",
    "import keras.backend as K\n",
    "from keras.models import Sequential\n",
    "from keras.layers import Dense, Activation, Dropout\n",
    "from tensorflow.keras.optimizers import SGD\n",
    "from keras.utils.vis_utils import model_to_dot\n",
    "from keras.callbacks import Callback\n",
    "from IPython.display import SVG\n",
    "from sklearn.model_selection import train_test_split\n",
    "%matplotlib inline"
   ]
  },
  {
   "cell_type": "markdown",
   "metadata": {
    "colab_type": "text",
    "id": "4fBXZraGNyrv"
   },
   "source": [
    "### Generate the images and bounding boxes"
   ]
  },
  {
   "cell_type": "code",
   "execution_count": 4,
   "metadata": {
    "colab": {},
    "colab_type": "code",
    "id": "2XV0H2uDNyrw"
   },
   "outputs": [],
   "source": [
    "n_images = 50000\n",
    "n_objects = 1\n",
    "img_size = 16\n",
    "min_obj_size = 1\n",
    "max_obj_size = 8"
   ]
  },
  {
   "cell_type": "code",
   "execution_count": 5,
   "metadata": {
    "colab": {},
    "colab_type": "code",
    "id": "Lxiga_3wNyr1"
   },
   "outputs": [],
   "source": [
    "def generate_training_set(n_images, n_objects, img_size, min_obj_size, max_obj_size):\n",
    "    images = np.zeros((n_images, img_size, img_size))\n",
    "    bounding_boxes = np.zeros((n_images, n_objects, 4))\n",
    "    for i in range(n_images):\n",
    "        for j in range(n_objects):\n",
    "            width, height = np.random.randint(min_obj_size, max_obj_size, size = 2)\n",
    "            x = np.random.randint(0, img_size - width)\n",
    "            y = np.random.randint(0, img_size - height)\n",
    "            images[i, x : x + width, y : y + height] = 1.0\n",
    "            bounding_boxes[i, j] = [x, y, width, height]\n",
    "    return (images, bounding_boxes)"
   ]
  },
  {
   "cell_type": "code",
   "execution_count": 6,
   "metadata": {
    "colab": {},
    "colab_type": "code",
    "id": "f55gVzf1Nyr6",
    "outputId": "ec3558b7-65f0-46f8-fe2f-1cad8705703b"
   },
   "outputs": [
    {
     "name": "stdout",
     "output_type": "stream",
     "text": [
      "Images shape: (50000, 16, 16)\n",
      "Bounding Boxes shape: (50000, 1, 4)\n"
     ]
    }
   ],
   "source": [
    "images, bounding_boxes = generate_training_set(n_images, n_objects, img_size, min_obj_size, max_obj_size)\n",
    "print(\"Images shape:\", images.shape)\n",
    "print(\"Bounding Boxes shape:\", bounding_boxes.shape)"
   ]
  },
  {
   "cell_type": "markdown",
   "metadata": {
    "colab_type": "text",
    "id": "6tIeVSoeNyr-"
   },
   "source": [
    "### Visualize samples from the generated images"
   ]
  },
  {
   "cell_type": "code",
   "execution_count": 7,
   "metadata": {
    "colab": {},
    "colab_type": "code",
    "id": "DQPTRpOlNyr_"
   },
   "outputs": [],
   "source": [
    "def display_image(index):\n",
    "    plt.imshow(images[index].T, cmap = \"binary\", origin='lower', extent = [0, img_size, 0, img_size])\n",
    "    for box in bounding_boxes[index]:\n",
    "        plt.gca().add_patch(Rectangle((box[0], box[1]), box[2], box[3], ec = 'r', fc = 'none'))\n",
    "    plt.xticks([])\n",
    "    plt.yticks([])\n",
    "    plt.show()"
   ]
  },
  {
   "cell_type": "code",
   "execution_count": 8,
   "metadata": {
    "colab": {},
    "colab_type": "code",
    "id": "NFyilLfvNysH",
    "outputId": "89a6aa9a-4bf5-4580-ae48-139366be224c"
   },
   "outputs": [
    {
     "data": {
      "image/png": "[encoded data removed]",
      "text/plain": [
       "<Figure size 432x288 with 1 Axes>"
      ]
     },
     "metadata": {},
     "output_type": "display_data"
    }
   ],
   "source": [
    "display_image(np.random.randint(0, n_images))"
   ]
  },
  {
   "cell_type": "code",
   "execution_count": 9,
   "metadata": {
    "colab": {},
    "colab_type": "code",
    "id": "5yt18voVNysQ",
    "outputId": "b1add224-4994-4d00-e6d9-281dc2cac678"
   },
   "outputs": [
    {
     "data": {
      "image/png": "[encoded data removed]",
      "text/plain": [
       "<Figure size 432x288 with 1 Axes>"
      ]
     },
     "metadata": {},
     "output_type": "display_data"
    }
   ],
   "source": [
    "display_image(np.random.randint(0, n_images))"
   ]
  },
  {
   "cell_type": "code",
   "execution_count": 10,
   "metadata": {
    "colab": {},
    "colab_type": "code",
    "id": "Ho1ohcexNysU",
    "outputId": "0b80d6f8-7c3e-4866-a5b4-28f3d2b76215"
   },
   "outputs": [
    {
     "data": {
      "image/png": "[encoded data removed]",
      "text/plain": [
       "<Figure size 432x288 with 1 Axes>"
      ]
     },
     "metadata": {},
     "output_type": "display_data"
    }
   ],
   "source": [
    "display_image(np.random.randint(0, n_images))"
   ]
  },
  {
   "cell_type": "code",
   "execution_count": 11,
   "metadata": {
    "colab": {},
    "colab_type": "code",
    "id": "oIJmNV12NysZ",
    "outputId": "920401ae-7ef5-4880-8492-df8328d636fe"
   },
   "outputs": [
    {
     "data": {
      "image/png": "[encoded data removed]",
      "text/plain": [
       "<Figure size 432x288 with 1 Axes>"
      ]
     },
     "metadata": {},
     "output_type": "display_data"
    }
   ],
   "source": [
    "display_image(np.random.randint(0, n_images))"
   ]
  },
  {
   "cell_type": "markdown",
   "metadata": {
    "colab_type": "text",
    "id": "YIWJdgEdYMtV"
   },
   "source": [
    "###Preprocess the images"
   ]
  },
  {
   "cell_type": "code",
   "execution_count": 12,
   "metadata": {
    "colab": {},
    "colab_type": "code",
    "id": "O1hpIzoLNysf",
    "outputId": "8b558495-a898-451e-e5a1-2bd63d5629e2"
   },
   "outputs": [
    {
     "data": {
      "text/plain": [
       "(50000, 256)"
      ]
     },
     "execution_count": 12,
     "metadata": {},
     "output_type": "execute_result"
    }
   ],
   "source": [
    "x = (images.reshape(n_images, -1) - np.mean(images)) / np.std(images)\n",
    "x.shape"
   ]
  },
  {
   "cell_type": "code",
   "execution_count": 13,
   "metadata": {
    "colab": {},
    "colab_type": "code",
    "id": "92ocj1yeNysn",
    "outputId": "241008ca-04a9-471f-a79b-54ac39ce73f4"
   },
   "outputs": [
    {
     "data": {
      "text/plain": [
       "(50000, 4)"
      ]
     },
     "execution_count": 13,
     "metadata": {},
     "output_type": "execute_result"
    }
   ],
   "source": [
    "y = bounding_boxes.reshape(n_images, -1) / img_size\n",
    "y.shape"
   ]
  },
  {
   "cell_type": "code",
   "execution_count": 14,
   "metadata": {
    "colab": {},
    "colab_type": "code",
    "id": "Iz7G9RGSNyss"
   },
   "outputs": [],
   "source": [
    "x_train, x_test, y_train, y_test = train_test_split(x, y, test_size = 0.33, random_state = 42)"
   ]
  },
  {
   "cell_type": "code",
   "execution_count": 15,
   "metadata": {
    "colab": {},
    "colab_type": "code",
    "id": "cIKtvwBdNysv",
    "outputId": "3c6e4829-d478-46d2-beb9-44319814c01e"
   },
   "outputs": [
    {
     "name": "stdout",
     "output_type": "stream",
     "text": [
      "x_train shape: (33500, 256)\n",
      "x_test shape: (16500, 256)\n",
      "y_train shape: (33500, 4)\n",
      "y_test shape: (16500, 256)\n"
     ]
    }
   ],
   "source": [
    "print(\"x_train shape:\", x_train.shape)\n",
    "print(\"x_test shape:\", x_test.shape)\n",
    "print(\"y_train shape:\", y_train.shape)\n",
    "print(\"y_test shape:\", x_test.shape)"
   ]
  },
  {
   "cell_type": "markdown",
   "metadata": {
    "colab_type": "text",
    "id": "wdGCHjO1Nys2"
   },
   "source": [
    "###Train the model"
   ]
  },
  {
   "cell_type": "code",
   "execution_count": 16,
   "metadata": {
    "colab": {},
    "colab_type": "code",
    "id": "OWZEHDdPNys3"
   },
   "outputs": [],
   "source": [
    "def classifier():\n",
    "    model = Sequential()\n",
    "    model.add(Dense(256, input_dim = 256))\n",
    "    model.add(Activation('relu'))\n",
    "    model.add(Dense(4))\n",
    "    return model"
   ]
  },
  {
   "cell_type": "code",
   "execution_count": 17,
   "metadata": {
    "colab": {},
    "colab_type": "code",
    "id": "EMoTmJ-7NytE",
    "outputId": "18879dd7-e909-4b21-bdfe-09b597428191"
   },
   "outputs": [
    {
     "name": "stdout",
     "output_type": "stream",
     "text": [
      "Model: \"sequential\"\n",
      "_________________________________________________________________\n",
      " Layer (type)                Output Shape              Param #   \n",
      "=================================================================\n",
      " dense (Dense)               (None, 256)               65792     \n",
      "                                                                 \n",
      " activation (Activation)     (None, 256)               0         \n",
      "                                                                 \n",
      " dense_1 (Dense)             (None, 4)                 1028      \n",
      "                                                                 \n",
      "=================================================================\n",
      "Total params: 66,820\n",
      "Trainable params: 66,820\n",
      "Non-trainable params: 0\n",
      "_________________________________________________________________\n"
     ]
    }
   ],
   "source": [
    "model = classifier()\n",
    "model.summary()"
   ]
  },
  {
   "cell_type": "code",
   "execution_count": 18,
   "metadata": {
    "colab": {},
    "colab_type": "code",
    "id": "U77gTBmfNytM"
   },
   "outputs": [],
   "source": [
    "model.compile(optimizer = \"adadelta\", loss = 'mean_squared_error', metrics = ['accuracy'])"
   ]
  },
  {
   "cell_type": "code",
   "execution_count": 19,
   "metadata": {
    "colab": {},
    "colab_type": "code",
    "id": "odQMhRvINytR"
   },
   "outputs": [],
   "source": [
    "learning_rate_history = []\n",
    "class Learning_Rate_History(Callback):\n",
    "    def on_epoch_begin(self, epoch, logs = {}):\n",
    "        learning_rate_history.append(K.get_value(model.optimizer.lr))\n",
    "        print('Learning Rate:', learning_rate_history[-1])"
   ]
  },
  {
   "cell_type": "code",
   "execution_count": 20,
   "metadata": {
    "colab": {},
    "colab_type": "code",
    "id": "vOATkPAnNytV",
    "outputId": "38631fcb-a0c7-4492-9507-3512968f1a35"
   },
   "outputs": [
    {
     "name": "stdout",
     "output_type": "stream",
     "text": [
      "Learning Rate: 0.001\n",
      "Epoch 1/30\n",
      "943/943 [==============================] - 2s 1ms/step - loss: 0.7030 - accuracy: 0.2570 - val_loss: 0.5693 - val_accuracy: 0.2672\n",
      "Learning Rate: 0.001\n",
      "Epoch 2/30\n",
      "943/943 [==============================] - 1s 1ms/step - loss: 0.4852 - accuracy: 0.2802 - val_loss: 0.4159 - val_accuracy: 0.2782\n",
      "Learning Rate: 0.001\n",
      "Epoch 3/30\n",
      "943/943 [==============================] - 1s 1ms/step - loss: 0.3702 - accuracy: 0.2930 - val_loss: 0.3333 - val_accuracy: 0.2970\n",
      "Learning Rate: 0.001\n",
      "Epoch 4/30\n",
      "943/943 [==============================] - 1s 1ms/step - loss: 0.3053 - accuracy: 0.3102 - val_loss: 0.2843 - val_accuracy: 0.3107\n",
      "Learning Rate: 0.001\n",
      "Epoch 5/30\n",
      "943/943 [==============================] - 1s 1ms/step - loss: 0.2651 - accuracy: 0.3242 - val_loss: 0.2517 - val_accuracy: 0.3200\n",
      "Learning Rate: 0.001\n",
      "Epoch 6/30\n",
      "943/943 [==============================] - 1s 1ms/step - loss: 0.2369 - accuracy: 0.3377 - val_loss: 0.2275 - val_accuracy: 0.3367\n",
      "Learning Rate: 0.001\n",
      "Epoch 7/30\n",
      "943/943 [==============================] - 2s 2ms/step - loss: 0.2155 - accuracy: 0.3470 - val_loss: 0.2087 - val_accuracy: 0.3484\n",
      "Learning Rate: 0.001\n",
      "Epoch 8/30\n",
      "943/943 [==============================] - 2s 2ms/step - loss: 0.1985 - accuracy: 0.3557 - val_loss: 0.1932 - val_accuracy: 0.3570\n",
      "Learning Rate: 0.001\n",
      "Epoch 9/30\n",
      "943/943 [==============================] - 2s 2ms/step - loss: 0.1844 - accuracy: 0.3650 - val_loss: 0.1802 - val_accuracy: 0.3660\n",
      "Learning Rate: 0.001\n",
      "Epoch 10/30\n",
      "943/943 [==============================] - 1s 2ms/step - loss: 0.1725 - accuracy: 0.3724 - val_loss: 0.1690 - val_accuracy: 0.3728\n",
      "Learning Rate: 0.001\n",
      "Epoch 11/30\n",
      "943/943 [==============================] - 1s 1ms/step - loss: 0.1621 - accuracy: 0.3782 - val_loss: 0.1593 - val_accuracy: 0.3764\n",
      "Learning Rate: 0.001\n",
      "Epoch 12/30\n",
      "943/943 [==============================] - 1s 1ms/step - loss: 0.1530 - accuracy: 0.3854 - val_loss: 0.1506 - val_accuracy: 0.3863\n",
      "Learning Rate: 0.001\n",
      "Epoch 13/30\n",
      "943/943 [==============================] - 1s 1ms/step - loss: 0.1449 - accuracy: 0.3938 - val_loss: 0.1428 - val_accuracy: 0.3922\n",
      "Learning Rate: 0.001\n",
      "Epoch 14/30\n",
      "943/943 [==============================] - 1s 1ms/step - loss: 0.1376 - accuracy: 0.4006 - val_loss: 0.1358 - val_accuracy: 0.3967\n",
      "Learning Rate: 0.001\n",
      "Epoch 15/30\n",
      "943/943 [==============================] - 1s 1ms/step - loss: 0.1310 - accuracy: 0.4085 - val_loss: 0.1295 - val_accuracy: 0.4012\n",
      "Learning Rate: 0.001\n",
      "Epoch 16/30\n",
      "943/943 [==============================] - 1s 1ms/step - loss: 0.1250 - accuracy: 0.4145 - val_loss: 0.1238 - val_accuracy: 0.4099\n",
      "Learning Rate: 0.001\n",
      "Epoch 17/30\n",
      "943/943 [==============================] - 1s 1ms/step - loss: 0.1195 - accuracy: 0.4197 - val_loss: 0.1185 - val_accuracy: 0.4164\n",
      "Learning Rate: 0.001\n",
      "Epoch 18/30\n",
      "943/943 [==============================] - 1s 1ms/step - loss: 0.1145 - accuracy: 0.4262 - val_loss: 0.1137 - val_accuracy: 0.4188\n",
      "Learning Rate: 0.001\n",
      "Epoch 19/30\n",
      "943/943 [==============================] - 1s 1ms/step - loss: 0.1099 - accuracy: 0.4323 - val_loss: 0.1092 - val_accuracy: 0.4254\n",
      "Learning Rate: 0.001\n",
      "Epoch 20/30\n",
      "943/943 [==============================] - 1s 1ms/step - loss: 0.1057 - accuracy: 0.4369 - val_loss: 0.1052 - val_accuracy: 0.4310\n",
      "Learning Rate: 0.001\n",
      "Epoch 21/30\n",
      "943/943 [==============================] - 1s 1ms/step - loss: 0.1017 - accuracy: 0.4428 - val_loss: 0.1014 - val_accuracy: 0.4388\n",
      "Learning Rate: 0.001\n",
      "Epoch 22/30\n",
      "943/943 [==============================] - 1s 1ms/step - loss: 0.0981 - accuracy: 0.4471 - val_loss: 0.0978 - val_accuracy: 0.4445\n",
      "Learning Rate: 0.001\n",
      "Epoch 23/30\n",
      "943/943 [==============================] - 1s 1ms/step - loss: 0.0947 - accuracy: 0.4527 - val_loss: 0.0945 - val_accuracy: 0.4501\n",
      "Learning Rate: 0.001\n",
      "Epoch 24/30\n",
      "943/943 [==============================] - 1s 1ms/step - loss: 0.0915 - accuracy: 0.4582 - val_loss: 0.0915 - val_accuracy: 0.4561\n",
      "Learning Rate: 0.001\n",
      "Epoch 25/30\n",
      "943/943 [==============================] - 1s 1ms/step - loss: 0.0886 - accuracy: 0.4634 - val_loss: 0.0887 - val_accuracy: 0.4603\n",
      "Learning Rate: 0.001\n",
      "Epoch 26/30\n",
      "943/943 [==============================] - ETA: 0s - loss: 0.0858 - accuracy: 0.4665 ETA: 0s - - 1s 1ms/step - loss: 0.0858 - accuracy: 0.4665 - val_loss: 0.0860 - val_accuracy: 0.4675\n",
      "Learning Rate: 0.001\n",
      "Epoch 27/30\n",
      "943/943 [==============================] - 1s 1ms/step - loss: 0.0832 - accuracy: 0.4725 - val_loss: 0.0835 - val_accuracy: 0.4701\n",
      "Learning Rate: 0.001\n",
      "Epoch 28/30\n",
      "943/943 [==============================] - 1s 1ms/step - loss: 0.0808 - accuracy: 0.4784 - val_loss: 0.0811 - val_accuracy: 0.4749\n",
      "Learning Rate: 0.001\n",
      "Epoch 29/30\n",
      "943/943 [==============================] - 1s 1ms/step - loss: 0.0785 - accuracy: 0.4805 - val_loss: 0.0789 - val_accuracy: 0.4809\n",
      "Learning Rate: 0.001\n",
      "Epoch 30/30\n",
      "943/943 [==============================] - 1s 2ms/step - loss: 0.0763 - accuracy: 0.4854 - val_loss: 0.0768 - val_accuracy: 0.4836\n"
     ]
    },
    {
     "data": {
      "text/plain": [
       "<keras.callbacks.History at 0x204b33d8f70>"
      ]
     },
     "execution_count": 20,
     "metadata": {},
     "output_type": "execute_result"
    }
   ],
   "source": [
    "model.fit(x_train, y_train, epochs = 30, validation_split = 0.1, callbacks = [Learning_Rate_History()])"
   ]
  },
  {
   "cell_type": "markdown",
   "metadata": {
    "colab_type": "text",
    "id": "3RM224OQNyta"
   },
   "source": [
    "\n",
    "\n",
    "### Predict bounding boxes"
   ]
  },
  {
   "cell_type": "code",
   "execution_count": 21,
   "metadata": {
    "colab": {},
    "colab_type": "code",
    "id": "8TpoB8P9Nyta",
    "outputId": "342306fb-b4e3-4af8-c5a8-5cad054e08e4"
   },
   "outputs": [
    {
     "data": {
      "text/plain": [
       "(16500, 4)"
      ]
     },
     "execution_count": 21,
     "metadata": {},
     "output_type": "execute_result"
    }
   ],
   "source": [
    "y_pred = model.predict(x_test)\n",
    "box_pred = y_pred * img_size\n",
    "box_pred.shape"
   ]
  },
  {
   "cell_type": "code",
   "execution_count": 22,
   "metadata": {
    "colab": {},
    "colab_type": "code",
    "id": "sO6wcDQJNyte"
   },
   "outputs": [],
   "source": [
    "def IOU(box1, box2):\n",
    "    x1, y1, w1, h1 = box1\n",
    "    x2, y2, w2, h2 = box2\n",
    "    w_intersection = min(x1 + w1, x2 + w2) - max(x1, x2)\n",
    "    h_intersection = min(y1 + h1, y2 + h2) - max(y1, y2)\n",
    "    if w_intersection <= 0 or h_intersection <= 0: # No overlap\n",
    "        return 0\n",
    "    I = w_intersection * h_intersection\n",
    "    U = w1 * h1 + w2 * h2 - I # Union = Total Area - I\n",
    "    return I / U"
   ]
  },
  {
   "cell_type": "code",
   "execution_count": 23,
   "metadata": {
    "colab": {},
    "colab_type": "code",
    "id": "7jrFSiffNyti"
   },
   "outputs": [],
   "source": [
    "iou = [IOU(y_test[i], y_pred[i]) for i in range(len(x_test))]"
   ]
  },
  {
   "cell_type": "markdown",
   "metadata": {
    "colab_type": "text",
    "id": "N4ee4vjyNytn"
   },
   "source": [
    "## Visualize the predictions on validation set\n",
    "\n"
   ]
  },
  {
   "cell_type": "code",
   "execution_count": 24,
   "metadata": {
    "colab": {},
    "colab_type": "code",
    "id": "wXiSPMX0Nyto"
   },
   "outputs": [],
   "source": [
    "def display(x, box, box_pred):\n",
    "    index = np.random.randint(0, len(x))\n",
    "    plt.imshow(x[index].reshape(16, 16).T, cmap = 'binary', origin = 'lower', extent = [0, img_size, 0, img_size])\n",
    "    plt.gca().add_patch(Rectangle((box_pred[index][0], box_pred[index][1]),\n",
    "                                      box_pred[index][2], box_pred[index][3],\n",
    "                                      ec = 'r', fc = 'none'))\n",
    "    plt.title(\"IOU: \" + str(iou[index]))\n",
    "    plt.xticks([])\n",
    "    plt.yticks([])\n",
    "    plt.show()"
   ]
  },
  {
   "cell_type": "code",
   "execution_count": 0,
   "metadata": {
    "colab": {},
    "colab_type": "code",
    "id": "Fxjzgy7WNytr",
    "outputId": "8cff463f-ce01-4631-8501-c60b6acc1880"
   },
   "outputs": [
    {
     "data": {
      "image/png": "[encoded data removed]",
      "text/plain": [
       "<Figure size 432x288 with 1 Axes>"
      ]
     },
     "metadata": {
      "tags": []
     },
     "output_type": "display_data"
    }
   ],
   "source": [
    "display(x_test, y_test, box_pred)"
   ]
  },
  {
   "cell_type": "code",
   "execution_count": 0,
   "metadata": {
    "colab": {},
    "colab_type": "code",
    "id": "_dgHy3cBNyt2",
    "outputId": "4753b09a-35ac-4ac3-d93a-e3098d425086"
   },
   "outputs": [
    {
     "data": {
      "image/png": "[encoded data removed]",
      "text/plain": [
       "<Figure size 432x288 with 1 Axes>"
      ]
     },
     "metadata": {
      "tags": []
     },
     "output_type": "display_data"
    }
   ],
   "source": [
    "display(x_test, y_test, box_pred)"
   ]
  },
  {
   "cell_type": "code",
   "execution_count": 0,
   "metadata": {
    "colab": {},
    "colab_type": "code",
    "id": "DMlNp7yfNyt6",
    "outputId": "d5fd6b69-2bf5-43db-8cb7-73eedf8a6300"
   },
   "outputs": [
    {
     "data": {
      "image/png": "[encoded data removed]",
      "text/plain": [
       "<Figure size 432x288 with 1 Axes>"
      ]
     },
     "metadata": {
      "tags": []
     },
     "output_type": "display_data"
    }
   ],
   "source": [
    "display(x_test, y_test, box_pred)"
   ]
  },
  {
   "cell_type": "code",
   "execution_count": 0,
   "metadata": {
    "colab": {},
    "colab_type": "code",
    "id": "Y1xUUSxiNyt9",
    "outputId": "2bd847d4-c6fa-4b4b-9741-7d205824664e"
   },
   "outputs": [
    {
     "data": {
      "image/png": "[encoded data removed]",
      "text/plain": [
       "<Figure size 432x288 with 1 Axes>"
      ]
     },
     "metadata": {
      "tags": []
     },
     "output_type": "display_data"
    }
   ],
   "source": [
    "display(x_test, y_test, box_pred)"
   ]
  }
 ],
 "metadata": {
  "colab": {
   "collapsed_sections": [],
   "name": "IOU.ipynb",
   "provenance": []
  },
  "kernelspec": {
   "display_name": "Python 3 (ipykernel)",
   "language": "python",
   "name": "python3"
  },
  "language_info": {
   "codemirror_mode": {
    "name": "ipython",
    "version": 3
   },
   "file_extension": ".py",
   "mimetype": "text/x-python",
   "name": "python",
   "nbconvert_exporter": "python",
   "pygments_lexer": "ipython3",
   "version": "3.9.7"
  }
 },
 "nbformat": 4,
 "nbformat_minor": 1
}
